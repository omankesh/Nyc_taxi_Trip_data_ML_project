{
 "cells": [
  {
   "cell_type": "markdown",
   "id": "1282b46e",
   "metadata": {},
   "source": [
    "---\n",
    "\n",
    "<center><h1> 📍 📍 Assignment 5 📍 📍</h1></center>\n",
    "\n",
    "---"
   ]
  },
  {
   "cell_type": "markdown",
   "id": "516c2aa5",
   "metadata": {
    "papermill": {
     "duration": 0.064419,
     "end_time": "2022-02-11T20:36:43.054290",
     "exception": false,
     "start_time": "2022-02-11T20:36:42.989871",
     "status": "completed"
    },
    "tags": []
   },
   "source": [
    "# **New York City Taxi Trip Duration**"
   ]
  },
  {
   "cell_type": "markdown",
   "id": "e018f4d2",
   "metadata": {
    "papermill": {
     "duration": 0.061914,
     "end_time": "2022-02-11T20:36:43.179256",
     "exception": false,
     "start_time": "2022-02-11T20:36:43.117342",
     "status": "completed"
    },
    "tags": []
   },
   "source": [
    "### Project: Building Basic predictive models over the NYC Taxi Trip dataset.\n",
    "- We have the NYC Taxi Trip Dataset. This dataset contains information about the taxi trips that took place in different parts of New York City and how much time did that trip take to complete.\n",
    "#### In this project, the following are the tasks we are going to solve-\n",
    "1. Build a K-Nearest neighbours model for the given dataset and find the best value of K.\n",
    "2. Build a Linear model for the given dataset with regularisation.\n",
    "3. Build a Random Forest model for the given dataset.\n",
    "4. Build a Gradient Boosting model for the given dataset.\n",
    "5. Combine all the models above using the averaging technique to generate the final predictions."
   ]
  },
  {
   "cell_type": "markdown",
   "id": "3db83dce",
   "metadata": {
    "papermill": {
     "duration": 0.05988,
     "end_time": "2022-02-11T20:36:43.299523",
     "exception": false,
     "start_time": "2022-02-11T20:36:43.239643",
     "status": "completed"
    },
    "tags": []
   },
   "source": [
    "#### Import Important Libraries"
   ]
  },
  {
   "cell_type": "code",
   "execution_count": 1,
   "id": "07d48ae0",
   "metadata": {
    "execution": {
     "iopub.execute_input": "2022-02-11T20:36:43.426419Z",
     "iopub.status.busy": "2022-02-11T20:36:43.425185Z",
     "iopub.status.idle": "2022-02-11T20:36:44.785425Z",
     "shell.execute_reply": "2022-02-11T20:36:44.784512Z",
     "shell.execute_reply.started": "2022-02-11T19:15:22.235376Z"
    },
    "papermill": {
     "duration": 1.425161,
     "end_time": "2022-02-11T20:36:44.785622",
     "exception": false,
     "start_time": "2022-02-11T20:36:43.360461",
     "status": "completed"
    },
    "tags": []
   },
   "outputs": [],
   "source": [
    "import numpy as np\n",
    "import pandas as pd\n",
    "import seaborn as sns\n",
    "import matplotlib.pyplot as plt\n",
    "%matplotlib inline\n",
    "\n",
    "from pandas import Series\n",
    "from datetime import datetime\n",
    "\n",
    "import warnings\n",
    "warnings.filterwarnings(\"ignore\")"
   ]
  },
  {
   "cell_type": "markdown",
   "id": "a0de9a5f",
   "metadata": {
    "papermill": {
     "duration": 0.059016,
     "end_time": "2022-02-11T20:36:44.906308",
     "exception": false,
     "start_time": "2022-02-11T20:36:44.847292",
     "status": "completed"
    },
    "tags": []
   },
   "source": [
    "#### Import the data set"
   ]
  },
  {
   "cell_type": "code",
   "execution_count": 2,
   "id": "7d6d7e86",
   "metadata": {},
   "outputs": [],
   "source": [
    "df = pd.read_csv('nyc_taxi_trip_duration Dataset.csv')"
   ]
  },
  {
   "cell_type": "code",
   "execution_count": 3,
   "id": "736d201c",
   "metadata": {
    "execution": {
     "iopub.execute_input": "2022-02-11T20:36:45.034602Z",
     "iopub.status.busy": "2022-02-11T20:36:45.033925Z",
     "iopub.status.idle": "2022-02-11T20:36:56.467940Z",
     "shell.execute_reply": "2022-02-11T20:36:56.466892Z",
     "shell.execute_reply.started": "2022-02-11T19:10:56.385279Z"
    },
    "papermill": {
     "duration": 11.499839,
     "end_time": "2022-02-11T20:36:56.468121",
     "exception": false,
     "start_time": "2022-02-11T20:36:44.968282",
     "status": "completed"
    },
    "tags": []
   },
   "outputs": [],
   "source": [
    "# train_df = pd.read_csv('/kaggle/input/nyc-taxi-trip-duration/train.zip')\n",
    "# test_df = pd.read_csv('/kaggle/input/nyc-taxi-trip-duration/test.zip')"
   ]
  },
  {
   "cell_type": "markdown",
   "id": "f71a66d3",
   "metadata": {
    "papermill": {
     "duration": 0.062108,
     "end_time": "2022-02-11T20:36:56.591247",
     "exception": false,
     "start_time": "2022-02-11T20:36:56.529139",
     "status": "completed"
    },
    "tags": []
   },
   "source": [
    "**Take a Quick Look at the Data Structure**"
   ]
  },
  {
   "cell_type": "code",
   "execution_count": 4,
   "id": "323b0d58",
   "metadata": {
    "execution": {
     "iopub.execute_input": "2022-02-11T20:36:56.716809Z",
     "iopub.status.busy": "2022-02-11T20:36:56.715798Z",
     "iopub.status.idle": "2022-02-11T20:36:56.724638Z",
     "shell.execute_reply": "2022-02-11T20:36:56.724133Z",
     "shell.execute_reply.started": "2022-02-11T19:11:07.559920Z"
    },
    "papermill": {
     "duration": 0.073136,
     "end_time": "2022-02-11T20:36:56.724814",
     "exception": false,
     "start_time": "2022-02-11T20:36:56.651678",
     "status": "completed"
    },
    "tags": []
   },
   "outputs": [
    {
     "data": {
      "text/plain": [
       "(729322, 11)"
      ]
     },
     "execution_count": 4,
     "metadata": {},
     "output_type": "execute_result"
    }
   ],
   "source": [
    "df.shape"
   ]
  },
  {
   "cell_type": "code",
   "execution_count": 5,
   "id": "52fe693e",
   "metadata": {
    "execution": {
     "iopub.execute_input": "2022-02-11T20:36:56.855993Z",
     "iopub.status.busy": "2022-02-11T20:36:56.855190Z",
     "iopub.status.idle": "2022-02-11T20:36:57.516283Z",
     "shell.execute_reply": "2022-02-11T20:36:57.515560Z",
     "shell.execute_reply.started": "2022-02-11T19:11:09.589351Z"
    },
    "papermill": {
     "duration": 0.730869,
     "end_time": "2022-02-11T20:36:57.516442",
     "exception": false,
     "start_time": "2022-02-11T20:36:56.785573",
     "status": "completed"
    },
    "scrolled": true,
    "tags": []
   },
   "outputs": [
    {
     "name": "stdout",
     "output_type": "stream",
     "text": [
      "<class 'pandas.core.frame.DataFrame'>\n",
      "RangeIndex: 729322 entries, 0 to 729321\n",
      "Data columns (total 11 columns):\n",
      " #   Column              Non-Null Count   Dtype  \n",
      "---  ------              --------------   -----  \n",
      " 0   id                  729322 non-null  object \n",
      " 1   vendor_id           729322 non-null  int64  \n",
      " 2   pickup_datetime     729322 non-null  object \n",
      " 3   dropoff_datetime    729322 non-null  object \n",
      " 4   passenger_count     729322 non-null  int64  \n",
      " 5   pickup_longitude    729322 non-null  float64\n",
      " 6   pickup_latitude     729322 non-null  float64\n",
      " 7   dropoff_longitude   729322 non-null  float64\n",
      " 8   dropoff_latitude    729322 non-null  float64\n",
      " 9   store_and_fwd_flag  729322 non-null  object \n",
      " 10  trip_duration       729322 non-null  int64  \n",
      "dtypes: float64(4), int64(3), object(4)\n",
      "memory usage: 61.2+ MB\n"
     ]
    }
   ],
   "source": [
    "df.info()"
   ]
  },
  {
   "cell_type": "code",
   "execution_count": 6,
   "id": "8d772175",
   "metadata": {
    "execution": {
     "iopub.execute_input": "2022-02-11T20:36:57.705445Z",
     "iopub.status.busy": "2022-02-11T20:36:57.703425Z",
     "iopub.status.idle": "2022-02-11T20:37:00.239972Z",
     "shell.execute_reply": "2022-02-11T20:37:00.239377Z",
     "shell.execute_reply.started": "2022-02-11T19:11:12.265789Z"
    },
    "papermill": {
     "duration": 2.651413,
     "end_time": "2022-02-11T20:37:00.240119",
     "exception": false,
     "start_time": "2022-02-11T20:36:57.588706",
     "status": "completed"
    },
    "tags": []
   },
   "outputs": [
    {
     "data": {
      "text/plain": [
       "0"
      ]
     },
     "execution_count": 6,
     "metadata": {},
     "output_type": "execute_result"
    }
   ],
   "source": [
    "# Check duplicate values\n",
    "df.duplicated().sum()"
   ]
  },
  {
   "cell_type": "code",
   "execution_count": 7,
   "id": "46c1a7da",
   "metadata": {
    "execution": {
     "iopub.execute_input": "2022-02-11T20:37:00.370234Z",
     "iopub.status.busy": "2022-02-11T20:37:00.369069Z",
     "iopub.status.idle": "2022-02-11T20:37:01.013031Z",
     "shell.execute_reply": "2022-02-11T20:37:01.012382Z",
     "shell.execute_reply.started": "2022-02-11T19:11:16.933150Z"
    },
    "papermill": {
     "duration": 0.712475,
     "end_time": "2022-02-11T20:37:01.013220",
     "exception": false,
     "start_time": "2022-02-11T20:37:00.300745",
     "status": "completed"
    },
    "tags": []
   },
   "outputs": [
    {
     "data": {
      "text/plain": [
       "id                    0\n",
       "vendor_id             0\n",
       "pickup_datetime       0\n",
       "dropoff_datetime      0\n",
       "passenger_count       0\n",
       "pickup_longitude      0\n",
       "pickup_latitude       0\n",
       "dropoff_longitude     0\n",
       "dropoff_latitude      0\n",
       "store_and_fwd_flag    0\n",
       "trip_duration         0\n",
       "dtype: int64"
      ]
     },
     "execution_count": 7,
     "metadata": {},
     "output_type": "execute_result"
    }
   ],
   "source": [
    "# check null values in dataset\n",
    "df.isnull().sum()"
   ]
  },
  {
   "cell_type": "markdown",
   "id": "cf4a8746",
   "metadata": {
    "papermill": {
     "duration": 0.062141,
     "end_time": "2022-02-11T20:37:01.137441",
     "exception": false,
     "start_time": "2022-02-11T20:37:01.075300",
     "status": "completed"
    },
    "tags": []
   },
   "source": [
    "> ***Finding:** There are no duplicated or missing values*"
   ]
  },
  {
   "cell_type": "code",
   "execution_count": 8,
   "id": "21a9bbae",
   "metadata": {},
   "outputs": [
    {
     "data": {
      "text/html": [
       "<div>\n",
       "<style scoped>\n",
       "    .dataframe tbody tr th:only-of-type {\n",
       "        vertical-align: middle;\n",
       "    }\n",
       "\n",
       "    .dataframe tbody tr th {\n",
       "        vertical-align: top;\n",
       "    }\n",
       "\n",
       "    .dataframe thead th {\n",
       "        text-align: right;\n",
       "    }\n",
       "</style>\n",
       "<table border=\"1\" class=\"dataframe\">\n",
       "  <thead>\n",
       "    <tr style=\"text-align: right;\">\n",
       "      <th></th>\n",
       "      <th>id</th>\n",
       "      <th>vendor_id</th>\n",
       "      <th>pickup_datetime</th>\n",
       "      <th>dropoff_datetime</th>\n",
       "      <th>passenger_count</th>\n",
       "      <th>pickup_longitude</th>\n",
       "      <th>pickup_latitude</th>\n",
       "      <th>dropoff_longitude</th>\n",
       "      <th>dropoff_latitude</th>\n",
       "      <th>store_and_fwd_flag</th>\n",
       "      <th>trip_duration</th>\n",
       "    </tr>\n",
       "  </thead>\n",
       "  <tbody>\n",
       "    <tr>\n",
       "      <th>0</th>\n",
       "      <td>id1080784</td>\n",
       "      <td>2</td>\n",
       "      <td>2016-02-29 16:40:21</td>\n",
       "      <td>2016-02-29 16:47:01</td>\n",
       "      <td>1</td>\n",
       "      <td>-73.953918</td>\n",
       "      <td>40.778873</td>\n",
       "      <td>-73.963875</td>\n",
       "      <td>40.771164</td>\n",
       "      <td>N</td>\n",
       "      <td>400</td>\n",
       "    </tr>\n",
       "    <tr>\n",
       "      <th>1</th>\n",
       "      <td>id0889885</td>\n",
       "      <td>1</td>\n",
       "      <td>2016-03-11 23:35:37</td>\n",
       "      <td>2016-03-11 23:53:57</td>\n",
       "      <td>2</td>\n",
       "      <td>-73.988312</td>\n",
       "      <td>40.731743</td>\n",
       "      <td>-73.994751</td>\n",
       "      <td>40.694931</td>\n",
       "      <td>N</td>\n",
       "      <td>1100</td>\n",
       "    </tr>\n",
       "    <tr>\n",
       "      <th>2</th>\n",
       "      <td>id0857912</td>\n",
       "      <td>2</td>\n",
       "      <td>2016-02-21 17:59:33</td>\n",
       "      <td>2016-02-21 18:26:48</td>\n",
       "      <td>2</td>\n",
       "      <td>-73.997314</td>\n",
       "      <td>40.721458</td>\n",
       "      <td>-73.948029</td>\n",
       "      <td>40.774918</td>\n",
       "      <td>N</td>\n",
       "      <td>1635</td>\n",
       "    </tr>\n",
       "    <tr>\n",
       "      <th>3</th>\n",
       "      <td>id3744273</td>\n",
       "      <td>2</td>\n",
       "      <td>2016-01-05 09:44:31</td>\n",
       "      <td>2016-01-05 10:03:32</td>\n",
       "      <td>6</td>\n",
       "      <td>-73.961670</td>\n",
       "      <td>40.759720</td>\n",
       "      <td>-73.956779</td>\n",
       "      <td>40.780628</td>\n",
       "      <td>N</td>\n",
       "      <td>1141</td>\n",
       "    </tr>\n",
       "    <tr>\n",
       "      <th>4</th>\n",
       "      <td>id0232939</td>\n",
       "      <td>1</td>\n",
       "      <td>2016-02-17 06:42:23</td>\n",
       "      <td>2016-02-17 06:56:31</td>\n",
       "      <td>1</td>\n",
       "      <td>-74.017120</td>\n",
       "      <td>40.708469</td>\n",
       "      <td>-73.988182</td>\n",
       "      <td>40.740631</td>\n",
       "      <td>N</td>\n",
       "      <td>848</td>\n",
       "    </tr>\n",
       "  </tbody>\n",
       "</table>\n",
       "</div>"
      ],
      "text/plain": [
       "          id  vendor_id      pickup_datetime     dropoff_datetime  \\\n",
       "0  id1080784          2  2016-02-29 16:40:21  2016-02-29 16:47:01   \n",
       "1  id0889885          1  2016-03-11 23:35:37  2016-03-11 23:53:57   \n",
       "2  id0857912          2  2016-02-21 17:59:33  2016-02-21 18:26:48   \n",
       "3  id3744273          2  2016-01-05 09:44:31  2016-01-05 10:03:32   \n",
       "4  id0232939          1  2016-02-17 06:42:23  2016-02-17 06:56:31   \n",
       "\n",
       "   passenger_count  pickup_longitude  pickup_latitude  dropoff_longitude  \\\n",
       "0                1        -73.953918        40.778873         -73.963875   \n",
       "1                2        -73.988312        40.731743         -73.994751   \n",
       "2                2        -73.997314        40.721458         -73.948029   \n",
       "3                6        -73.961670        40.759720         -73.956779   \n",
       "4                1        -74.017120        40.708469         -73.988182   \n",
       "\n",
       "   dropoff_latitude store_and_fwd_flag  trip_duration  \n",
       "0         40.771164                  N            400  \n",
       "1         40.694931                  N           1100  \n",
       "2         40.774918                  N           1635  \n",
       "3         40.780628                  N           1141  \n",
       "4         40.740631                  N            848  "
      ]
     },
     "execution_count": 8,
     "metadata": {},
     "output_type": "execute_result"
    }
   ],
   "source": [
    "# Take a look at dataset\n",
    "df.head()"
   ]
  },
  {
   "cell_type": "markdown",
   "id": "afaf2fb7",
   "metadata": {
    "papermill": {
     "duration": 0.06377,
     "end_time": "2022-02-11T20:37:01.265623",
     "exception": false,
     "start_time": "2022-02-11T20:37:01.201853",
     "status": "completed"
    },
    "tags": []
   },
   "source": [
    "# **Visualization**"
   ]
  },
  {
   "cell_type": "code",
   "execution_count": 9,
   "id": "8e7ee48c",
   "metadata": {
    "execution": {
     "iopub.execute_input": "2022-02-11T20:37:01.420651Z",
     "iopub.status.busy": "2022-02-11T20:37:01.419971Z",
     "iopub.status.idle": "2022-02-11T20:37:01.878515Z",
     "shell.execute_reply": "2022-02-11T20:37:01.877846Z",
     "shell.execute_reply.started": "2022-02-11T19:11:21.432691Z"
    },
    "papermill": {
     "duration": 0.548867,
     "end_time": "2022-02-11T20:37:01.878686",
     "exception": false,
     "start_time": "2022-02-11T20:37:01.329819",
     "status": "completed"
    },
    "tags": []
   },
   "outputs": [
    {
     "data": {
      "text/html": [
       "<div>\n",
       "<style scoped>\n",
       "    .dataframe tbody tr th:only-of-type {\n",
       "        vertical-align: middle;\n",
       "    }\n",
       "\n",
       "    .dataframe tbody tr th {\n",
       "        vertical-align: top;\n",
       "    }\n",
       "\n",
       "    .dataframe thead th {\n",
       "        text-align: right;\n",
       "    }\n",
       "</style>\n",
       "<table border=\"1\" class=\"dataframe\">\n",
       "  <thead>\n",
       "    <tr style=\"text-align: right;\">\n",
       "      <th></th>\n",
       "      <th>vendor_id</th>\n",
       "      <th>passenger_count</th>\n",
       "      <th>pickup_longitude</th>\n",
       "      <th>pickup_latitude</th>\n",
       "      <th>dropoff_longitude</th>\n",
       "      <th>dropoff_latitude</th>\n",
       "      <th>trip_duration</th>\n",
       "    </tr>\n",
       "  </thead>\n",
       "  <tbody>\n",
       "    <tr>\n",
       "      <th>count</th>\n",
       "      <td>729322.0</td>\n",
       "      <td>729322.0</td>\n",
       "      <td>729322.0</td>\n",
       "      <td>729322.0</td>\n",
       "      <td>729322.0</td>\n",
       "      <td>729322.0</td>\n",
       "      <td>729322.0</td>\n",
       "    </tr>\n",
       "    <tr>\n",
       "      <th>mean</th>\n",
       "      <td>2.0</td>\n",
       "      <td>2.0</td>\n",
       "      <td>-74.0</td>\n",
       "      <td>41.0</td>\n",
       "      <td>-74.0</td>\n",
       "      <td>41.0</td>\n",
       "      <td>952.0</td>\n",
       "    </tr>\n",
       "    <tr>\n",
       "      <th>std</th>\n",
       "      <td>0.0</td>\n",
       "      <td>1.0</td>\n",
       "      <td>0.0</td>\n",
       "      <td>0.0</td>\n",
       "      <td>0.0</td>\n",
       "      <td>0.0</td>\n",
       "      <td>3865.0</td>\n",
       "    </tr>\n",
       "    <tr>\n",
       "      <th>min</th>\n",
       "      <td>1.0</td>\n",
       "      <td>0.0</td>\n",
       "      <td>-122.0</td>\n",
       "      <td>35.0</td>\n",
       "      <td>-122.0</td>\n",
       "      <td>32.0</td>\n",
       "      <td>1.0</td>\n",
       "    </tr>\n",
       "    <tr>\n",
       "      <th>25%</th>\n",
       "      <td>1.0</td>\n",
       "      <td>1.0</td>\n",
       "      <td>-74.0</td>\n",
       "      <td>41.0</td>\n",
       "      <td>-74.0</td>\n",
       "      <td>41.0</td>\n",
       "      <td>397.0</td>\n",
       "    </tr>\n",
       "    <tr>\n",
       "      <th>50%</th>\n",
       "      <td>2.0</td>\n",
       "      <td>1.0</td>\n",
       "      <td>-74.0</td>\n",
       "      <td>41.0</td>\n",
       "      <td>-74.0</td>\n",
       "      <td>41.0</td>\n",
       "      <td>663.0</td>\n",
       "    </tr>\n",
       "    <tr>\n",
       "      <th>75%</th>\n",
       "      <td>2.0</td>\n",
       "      <td>2.0</td>\n",
       "      <td>-74.0</td>\n",
       "      <td>41.0</td>\n",
       "      <td>-74.0</td>\n",
       "      <td>41.0</td>\n",
       "      <td>1075.0</td>\n",
       "    </tr>\n",
       "    <tr>\n",
       "      <th>max</th>\n",
       "      <td>2.0</td>\n",
       "      <td>9.0</td>\n",
       "      <td>-66.0</td>\n",
       "      <td>52.0</td>\n",
       "      <td>-66.0</td>\n",
       "      <td>44.0</td>\n",
       "      <td>1939736.0</td>\n",
       "    </tr>\n",
       "  </tbody>\n",
       "</table>\n",
       "</div>"
      ],
      "text/plain": [
       "       vendor_id  passenger_count  pickup_longitude  pickup_latitude  \\\n",
       "count   729322.0         729322.0          729322.0         729322.0   \n",
       "mean         2.0              2.0             -74.0             41.0   \n",
       "std          0.0              1.0               0.0              0.0   \n",
       "min          1.0              0.0            -122.0             35.0   \n",
       "25%          1.0              1.0             -74.0             41.0   \n",
       "50%          2.0              1.0             -74.0             41.0   \n",
       "75%          2.0              2.0             -74.0             41.0   \n",
       "max          2.0              9.0             -66.0             52.0   \n",
       "\n",
       "       dropoff_longitude  dropoff_latitude  trip_duration  \n",
       "count           729322.0          729322.0       729322.0  \n",
       "mean               -74.0              41.0          952.0  \n",
       "std                  0.0               0.0         3865.0  \n",
       "min               -122.0              32.0            1.0  \n",
       "25%                -74.0              41.0          397.0  \n",
       "50%                -74.0              41.0          663.0  \n",
       "75%                -74.0              41.0         1075.0  \n",
       "max                -66.0              44.0      1939736.0  "
      ]
     },
     "execution_count": 9,
     "metadata": {},
     "output_type": "execute_result"
    }
   ],
   "source": [
    "round(df.describe())"
   ]
  },
  {
   "cell_type": "markdown",
   "id": "034e8685",
   "metadata": {
    "papermill": {
     "duration": 0.061619,
     "end_time": "2022-02-11T20:37:02.004664",
     "exception": false,
     "start_time": "2022-02-11T20:37:01.943045",
     "status": "completed"
    },
    "tags": []
   },
   "source": [
    "> ***Finding**: We clearly see trip_duration takes strange values for min and max. Let's have a quick visualization with a boxplot.*"
   ]
  },
  {
   "cell_type": "markdown",
   "id": "533a4685",
   "metadata": {
    "papermill": {
     "duration": 0.062551,
     "end_time": "2022-02-11T20:37:02.130710",
     "exception": false,
     "start_time": "2022-02-11T20:37:02.068159",
     "status": "completed"
    },
    "tags": []
   },
   "source": [
    "**Outlier visualization**"
   ]
  },
  {
   "cell_type": "code",
   "execution_count": 10,
   "id": "79e5ae57",
   "metadata": {
    "execution": {
     "iopub.execute_input": "2022-02-11T20:37:02.269739Z",
     "iopub.status.busy": "2022-02-11T20:37:02.269041Z",
     "iopub.status.idle": "2022-02-11T20:37:26.108148Z",
     "shell.execute_reply": "2022-02-11T20:37:26.107466Z",
     "shell.execute_reply.started": "2022-02-11T19:11:24.536859Z"
    },
    "papermill": {
     "duration": 23.915875,
     "end_time": "2022-02-11T20:37:26.108296",
     "exception": false,
     "start_time": "2022-02-11T20:37:02.192421",
     "status": "completed"
    },
    "tags": []
   },
   "outputs": [
    {
     "data": {
      "image/png": "[encoded data removed]",
      "text/plain": [
       "<Figure size 1296x432 with 1 Axes>"
      ]
     },
     "metadata": {
      "needs_background": "light"
     },
     "output_type": "display_data"
    }
   ],
   "source": [
    "plt.subplots(figsize=(18,6))\n",
    "plt.title(\"Outliers visualization\")\n",
    "df.boxplot();"
   ]
  },
  {
   "cell_type": "markdown",
   "id": "0b0a5946",
   "metadata": {
    "papermill": {
     "duration": 0.063401,
     "end_time": "2022-02-11T20:37:26.234120",
     "exception": false,
     "start_time": "2022-02-11T20:37:26.170719",
     "status": "completed"
    },
    "tags": []
   },
   "source": [
    "> ***Finding:** We are asked to predict trip_duration of the test set, so I first check what kind of trips durations are present in the dataset. Because of the outliers i decided to go ahead with the log scale.*"
   ]
  },
  {
   "cell_type": "markdown",
   "id": "6b3d584f",
   "metadata": {
    "papermill": {
     "duration": 0.062095,
     "end_time": "2022-02-11T20:37:26.359232",
     "exception": false,
     "start_time": "2022-02-11T20:37:26.297137",
     "status": "completed"
    },
    "tags": []
   },
   "source": [
    "**Visualize the trip duration**"
   ]
  },
  {
   "cell_type": "code",
   "execution_count": 11,
   "id": "f601020c",
   "metadata": {
    "execution": {
     "iopub.execute_input": "2022-02-11T20:37:26.513618Z",
     "iopub.status.busy": "2022-02-11T20:37:26.492903Z",
     "iopub.status.idle": "2022-02-11T20:37:32.107217Z",
     "shell.execute_reply": "2022-02-11T20:37:32.107684Z",
     "shell.execute_reply.started": "2022-02-11T19:11:42.324432Z"
    },
    "papermill": {
     "duration": 5.686594,
     "end_time": "2022-02-11T20:37:32.107881",
     "exception": false,
     "start_time": "2022-02-11T20:37:26.421287",
     "status": "completed"
    },
    "tags": []
   },
   "outputs": [
    {
     "data": {
      "image/png": "[encoded data removed]",
      "text/plain": [
       "<Figure size 792x504 with 1 Axes>"
      ]
     },
     "metadata": {},
     "output_type": "display_data"
    }
   ],
   "source": [
    "sns.set(style=\"white\", palette=\"muted\", color_codes=True)\n",
    "f, axes = plt.subplots(1, 1, figsize=(11, 7), sharex=True)\n",
    "sns.despine(left=True)\n",
    "sns.distplot(np.log(df['trip_duration'].values+1), axlabel = 'Log(trip_duration)', label = 'log(trip_duration)', bins = 50, color=\"y\")\n",
    "plt.setp(axes, yticks=[])\n",
    "plt.tight_layout()\n",
    "plt.show()"
   ]
  },
  {
   "cell_type": "markdown",
   "id": "c66343f7",
   "metadata": {
    "papermill": {
     "duration": 0.064253,
     "end_time": "2022-02-11T20:37:32.237910",
     "exception": false,
     "start_time": "2022-02-11T20:37:32.173657",
     "status": "completed"
    },
    "tags": []
   },
   "source": [
    "> ***Finding**: There are outliers for trip_duration. I think it will probably damage my model, so I choose to get rid of them*"
   ]
  },
  {
   "cell_type": "markdown",
   "id": "34b221dc",
   "metadata": {
    "papermill": {
     "duration": 0.063761,
     "end_time": "2022-02-11T20:37:32.365925",
     "exception": false,
     "start_time": "2022-02-11T20:37:32.302164",
     "status": "completed"
    },
    "tags": []
   },
   "source": [
    "**Visualize pickup and dropoff coordinations**\n",
    "\n"
   ]
  },
  {
   "cell_type": "code",
   "execution_count": 12,
   "id": "87c47c6a",
   "metadata": {
    "execution": {
     "iopub.execute_input": "2022-02-11T20:37:32.496828Z",
     "iopub.status.busy": "2022-02-11T20:37:32.496130Z",
     "iopub.status.idle": "2022-02-11T20:37:56.775415Z",
     "shell.execute_reply": "2022-02-11T20:37:56.774907Z",
     "shell.execute_reply.started": "2022-02-11T19:13:33.139100Z"
    },
    "papermill": {
     "duration": 24.346004,
     "end_time": "2022-02-11T20:37:56.775565",
     "exception": false,
     "start_time": "2022-02-11T20:37:32.429561",
     "status": "completed"
    },
    "tags": []
   },
   "outputs": [
    {
     "data": {
      "image/png": "[encoded data removed]",
      "text/plain": [
       "<Figure size 864x864 with 4 Axes>"
      ]
     },
     "metadata": {},
     "output_type": "display_data"
    }
   ],
   "source": [
    "data = df.loc[(df.pickup_latitude > 40.6) & (df.pickup_latitude < 40.9)]\n",
    "data = data.loc[(data.dropoff_latitude>40.6) & (data.dropoff_latitude < 40.9)]\n",
    "data = data.loc[(data.dropoff_longitude > -74.05) & (data.dropoff_longitude < -73.7)]\n",
    "data = data.loc[(data.pickup_longitude > -74.05) & (data.pickup_longitude < -73.7)]\n",
    "df_new = data.copy()\n",
    "sns.set(style=\"white\", palette=\"muted\", color_codes=True)\n",
    "f, axes = plt.subplots(2,2,figsize=(12, 12), sharex=False, sharey = False)#\n",
    "sns.despine(left=True)\n",
    "sns.distplot(df_new['pickup_latitude'].values, label = 'pickup_latitude',color=\"m\",bins = 100, ax=axes[0,0])\n",
    "sns.distplot(df_new['pickup_longitude'].values, label = 'pickup_longitude',color=\"g\",bins =100, ax=axes[0,1])\n",
    "sns.distplot(df_new['dropoff_latitude'].values, label = 'dropoff_latitude',color=\"m\",bins =100, ax=axes[1, 0])\n",
    "sns.distplot(df_new['dropoff_longitude'].values, label = 'dropoff_longitude',color=\"g\",bins =100, ax=axes[1, 1])\n",
    "plt.setp(axes, yticks=[])\n",
    "plt.tight_layout()\n",
    "plt.show()"
   ]
  },
  {
   "cell_type": "markdown",
   "id": "a4c6de4a",
   "metadata": {
    "papermill": {
     "duration": 0.067698,
     "end_time": "2022-02-11T20:37:56.910612",
     "exception": false,
     "start_time": "2022-02-11T20:37:56.842914",
     "status": "completed"
    },
    "tags": []
   },
   "source": [
    "**Findings** - It is clear that pick and drop latitude are centered around 40 to 41, and longitude are situated around -74 to -73."
   ]
  },
  {
   "cell_type": "markdown",
   "id": "ff094c7d",
   "metadata": {
    "papermill": {
     "duration": 0.067866,
     "end_time": "2022-02-11T20:37:57.045530",
     "exception": false,
     "start_time": "2022-02-11T20:37:56.977664",
     "status": "completed"
    },
    "tags": []
   },
   "source": [
    "**Plot pickup positions**"
   ]
  },
  {
   "cell_type": "code",
   "execution_count": 13,
   "id": "af81b8d9",
   "metadata": {
    "execution": {
     "iopub.execute_input": "2022-02-11T20:37:58.042139Z",
     "iopub.status.busy": "2022-02-11T20:37:58.041330Z",
     "iopub.status.idle": "2022-02-11T20:38:00.594918Z",
     "shell.execute_reply": "2022-02-11T20:38:00.595480Z",
     "shell.execute_reply.started": "2022-02-11T19:14:08.744449Z"
    },
    "papermill": {
     "duration": 3.482069,
     "end_time": "2022-02-11T20:38:00.595691",
     "exception": false,
     "start_time": "2022-02-11T20:37:57.113622",
     "status": "completed"
    },
    "tags": []
   },
   "outputs": [
    {
     "data": {
      "image/png": "[encoded data removed]",
      "text/plain": [
       "<Figure size 720x360 with 1 Axes>"
      ]
     },
     "metadata": {},
     "output_type": "display_data"
    }
   ],
   "source": [
    "pickup_longitude = list(df.pickup_longitude)\n",
    "pickup_latitude = list(df.pickup_latitude)\n",
    "plt.subplots(figsize=(10,5))\n",
    "plt.plot(pickup_longitude, pickup_latitude, '.', alpha = 0.8, markersize = 10)\n",
    "plt.xlabel('pickup_longitude')\n",
    "plt.ylabel('pickup_latitude')\n",
    "plt.show()"
   ]
  },
  {
   "cell_type": "markdown",
   "id": "68cbd382",
   "metadata": {
    "papermill": {
     "duration": 0.070266,
     "end_time": "2022-02-11T20:38:00.744503",
     "exception": false,
     "start_time": "2022-02-11T20:38:00.674237",
     "status": "completed"
    },
    "tags": []
   },
   "source": [
    "> ***Finding:** I decided to remove those large duration trip by using a cap on coordinations*"
   ]
  },
  {
   "cell_type": "markdown",
   "id": "46ec0437",
   "metadata": {
    "papermill": {
     "duration": 0.069928,
     "end_time": "2022-02-11T20:38:00.883326",
     "exception": false,
     "start_time": "2022-02-11T20:38:00.813398",
     "status": "completed"
    },
    "tags": []
   },
   "source": [
    "**Plot pickup positions**"
   ]
  },
  {
   "cell_type": "code",
   "execution_count": 14,
   "id": "b67800ee",
   "metadata": {
    "execution": {
     "iopub.execute_input": "2022-02-11T20:38:01.685231Z",
     "iopub.status.busy": "2022-02-11T20:38:01.514222Z",
     "iopub.status.idle": "2022-02-11T20:38:04.398902Z",
     "shell.execute_reply": "2022-02-11T20:38:04.398359Z",
     "shell.execute_reply.started": "2022-02-11T19:14:14.876464Z"
    },
    "papermill": {
     "duration": 3.44676,
     "end_time": "2022-02-11T20:38:04.399060",
     "exception": false,
     "start_time": "2022-02-11T20:38:00.952300",
     "status": "completed"
    },
    "tags": []
   },
   "outputs": [
    {
     "data": {
      "image/png": "[encoded data removed]",
      "text/plain": [
       "<Figure size 720x360 with 1 Axes>"
      ]
     },
     "metadata": {},
     "output_type": "display_data"
    }
   ],
   "source": [
    "dropoff_longitude = list(df.dropoff_longitude)\n",
    "dropoff_latitude = list(df.dropoff_latitude)\n",
    "plt.subplots(figsize=(10,5))\n",
    "plt.xlim(-120,-60)\n",
    "plt.plot(dropoff_longitude, dropoff_latitude, '.', alpha = 0.8, markersize = 10)\n",
    "plt.xlabel('dropoff_longitude')\n",
    "plt.ylabel('dropoff_latitude')\n",
    "plt.show()"
   ]
  },
  {
   "cell_type": "markdown",
   "id": "91efdc1f",
   "metadata": {
    "papermill": {
     "duration": 0.069163,
     "end_time": "2022-02-11T20:38:04.537964",
     "exception": false,
     "start_time": "2022-02-11T20:38:04.468801",
     "status": "completed"
    },
    "tags": []
   },
   "source": [
    "**Remove pickup point outliers**"
   ]
  },
  {
   "cell_type": "code",
   "execution_count": 15,
   "id": "43f57cdb",
   "metadata": {
    "execution": {
     "iopub.execute_input": "2022-02-11T20:38:04.682524Z",
     "iopub.status.busy": "2022-02-11T20:38:04.681480Z",
     "iopub.status.idle": "2022-02-11T20:38:05.152158Z",
     "shell.execute_reply": "2022-02-11T20:38:05.151456Z",
     "shell.execute_reply.started": "2022-02-11T19:14:31.074507Z"
    },
    "papermill": {
     "duration": 0.544128,
     "end_time": "2022-02-11T20:38:05.152302",
     "exception": false,
     "start_time": "2022-02-11T20:38:04.608174",
     "status": "completed"
    },
    "tags": []
   },
   "outputs": [],
   "source": [
    "df = df[(df.pickup_longitude > -100)]\n",
    "df = df[(df.pickup_latitude < 50)]"
   ]
  },
  {
   "cell_type": "markdown",
   "id": "d5fcc9b1",
   "metadata": {
    "papermill": {
     "duration": 0.071041,
     "end_time": "2022-02-11T20:38:05.292449",
     "exception": false,
     "start_time": "2022-02-11T20:38:05.221408",
     "status": "completed"
    },
    "tags": []
   },
   "source": [
    "**The average time taken by two different vendors vs weekday**"
   ]
  },
  {
   "cell_type": "code",
   "execution_count": 16,
   "id": "3dca17e4",
   "metadata": {
    "execution": {
     "iopub.execute_input": "2022-02-11T20:38:05.434516Z",
     "iopub.status.busy": "2022-02-11T20:38:05.433574Z",
     "iopub.status.idle": "2022-02-11T20:38:07.484221Z",
     "shell.execute_reply": "2022-02-11T20:38:07.484740Z",
     "shell.execute_reply.started": "2022-02-11T19:16:19.803540Z"
    },
    "papermill": {
     "duration": 2.12291,
     "end_time": "2022-02-11T20:38:07.484964",
     "exception": false,
     "start_time": "2022-02-11T20:38:05.362054",
     "status": "completed"
    },
    "tags": []
   },
   "outputs": [],
   "source": [
    "data = df.copy()\n",
    "data['pickup_datetime'] = pd.to_datetime(data.pickup_datetime)\n",
    "data.loc[:, 'pick_month'] = data['pickup_datetime'].dt.month\n",
    "data.loc[:, 'hour'] = data['pickup_datetime'].dt.hour\n",
    "data.loc[:, 'week_of_year'] = data['pickup_datetime'].dt.weekofyear\n",
    "data.loc[:, 'day_of_year'] = data['pickup_datetime'].dt.dayofyear\n",
    "data.loc[:, 'day_of_week'] = data['pickup_datetime'].dt.dayofweek"
   ]
  },
  {
   "cell_type": "code",
   "execution_count": 17,
   "id": "26e8ed5e",
   "metadata": {
    "execution": {
     "iopub.execute_input": "2022-02-11T20:38:07.633607Z",
     "iopub.status.busy": "2022-02-11T20:38:07.632935Z",
     "iopub.status.idle": "2022-02-11T20:38:08.088872Z",
     "shell.execute_reply": "2022-02-11T20:38:08.088205Z",
     "shell.execute_reply.started": "2022-02-11T19:17:47.019149Z"
    },
    "papermill": {
     "duration": 0.533867,
     "end_time": "2022-02-11T20:38:08.089016",
     "exception": false,
     "start_time": "2022-02-11T20:38:07.555149",
     "status": "completed"
    },
    "tags": []
   },
   "outputs": [
    {
     "data": {
      "text/plain": [
       "<AxesSubplot:xlabel='day_of_week'>"
      ]
     },
     "execution_count": 17,
     "metadata": {},
     "output_type": "execute_result"
    },
    {
     "data": {
      "image/png": "[encoded data removed]",
      "text/plain": [
       "<Figure size 576x360 with 1 Axes>"
      ]
     },
     "metadata": {},
     "output_type": "display_data"
    }
   ],
   "source": [
    "summary_wdays_avg_duration = pd.DataFrame(data.groupby(['vendor_id','day_of_week'])['trip_duration'].mean())\n",
    "summary_wdays_avg_duration.reset_index(inplace = True)\n",
    "summary_wdays_avg_duration['unit']=1\n",
    "summary_wdays_avg_duration_piv = summary_wdays_avg_duration.pivot(\"day_of_week\", \"vendor_id\", \"trip_duration\")\n",
    "\n",
    "plt.figure(figsize=(8,5))\n",
    "sns.set(style=\"white\", palette=\"muted\", color_codes=True)\n",
    "sns.lineplot(data=summary_wdays_avg_duration_piv)\n"
   ]
  },
  {
   "cell_type": "markdown",
   "id": "755112e0",
   "metadata": {
    "papermill": {
     "duration": 0.072482,
     "end_time": "2022-02-11T20:38:08.233184",
     "exception": false,
     "start_time": "2022-02-11T20:38:08.160702",
     "status": "completed"
    },
    "tags": []
   },
   "source": [
    "> ***Finding**: We have quite explainable pattern between vendor_id and average time so i decided to use vendor_id in my model. Also it's clear that the vendor 1 is taking more time than vendor 2 on all the days of the week*"
   ]
  },
  {
   "cell_type": "code",
   "execution_count": 18,
   "id": "cc53a19d",
   "metadata": {
    "execution": {
     "iopub.execute_input": "2022-02-11T20:38:08.388548Z",
     "iopub.status.busy": "2022-02-11T20:38:08.387132Z",
     "iopub.status.idle": "2022-02-11T20:38:12.886034Z",
     "shell.execute_reply": "2022-02-11T20:38:12.886544Z",
     "shell.execute_reply.started": "2022-02-11T19:20:09.887277Z"
    },
    "papermill": {
     "duration": 4.580336,
     "end_time": "2022-02-11T20:38:12.886715",
     "exception": false,
     "start_time": "2022-02-11T20:38:08.306379",
     "status": "completed"
    },
    "tags": []
   },
   "outputs": [
    {
     "data": {
      "image/png": "[encoded data removed]",
      "text/plain": [
       "<Figure size 576x576 with 1 Axes>"
      ]
     },
     "metadata": {},
     "output_type": "display_data"
    }
   ],
   "source": [
    "plt.figure(figsize=(8,8))\n",
    "sns.set(style=\"whitegrid\", color_codes=True)\n",
    "sns.set_context(\"poster\")\n",
    "data2 = data.copy()\n",
    "data2['trip_duration']= np.log(data['trip_duration'])\n",
    "sns.violinplot(x=\"passenger_count\", y=\"trip_duration\", hue=\"vendor_id\", data=data2, split=True,\n",
    "               inner=\"quart\",palette={1: \"b\", 2: \"r\"})\n",
    "\n",
    "sns.despine(left=True)\n"
   ]
  },
  {
   "cell_type": "markdown",
   "id": "a203c27c",
   "metadata": {
    "papermill": {
     "duration": 0.073334,
     "end_time": "2022-02-11T20:38:13.032854",
     "exception": false,
     "start_time": "2022-02-11T20:38:12.959520",
     "status": "completed"
    },
    "tags": []
   },
   "source": [
    "***Findings** -\n",
    "* There are trips for both the vendor with zeros passengers and few of these trips have negative time as well, so i decided to drop these outliers\n",
    "* There are very less number of trips with passenger count 7 and 9*\n",
    "\n"
   ]
  },
  {
   "cell_type": "code",
   "execution_count": 19,
   "id": "5a627eae",
   "metadata": {
    "execution": {
     "iopub.execute_input": "2022-02-11T20:38:13.183008Z",
     "iopub.status.busy": "2022-02-11T20:38:13.182336Z",
     "iopub.status.idle": "2022-02-11T20:38:13.744719Z",
     "shell.execute_reply": "2022-02-11T20:38:13.745235Z",
     "shell.execute_reply.started": "2022-02-11T19:25:45.101230Z"
    },
    "papermill": {
     "duration": 0.639113,
     "end_time": "2022-02-11T20:38:13.745421",
     "exception": false,
     "start_time": "2022-02-11T20:38:13.106308",
     "status": "completed"
    },
    "tags": []
   },
   "outputs": [
    {
     "data": {
      "text/plain": [
       "<AxesSubplot:xlabel='hour'>"
      ]
     },
     "execution_count": 19,
     "metadata": {},
     "output_type": "execute_result"
    },
    {
     "data": {
      "image/png": "[encoded data removed]",
      "text/plain": [
       "<Figure size 720x360 with 1 Axes>"
      ]
     },
     "metadata": {},
     "output_type": "display_data"
    }
   ],
   "source": [
    "plt.figure(figsize=(10,5))\n",
    "summary_hour_duration = pd.DataFrame(data.groupby(['day_of_week','hour'])['trip_duration'].mean())\n",
    "summary_hour_duration.reset_index(inplace = True)\n",
    "summary_hour_duration['unit']=1\n",
    "summary_hour_duration_piv = summary_hour_duration.pivot(\"hour\",\"day_of_week\", \"trip_duration\")\n",
    "\n",
    "sns.set(style=\"white\", palette=\"muted\", color_codes=True)\n",
    "sns.lineplot(data=summary_hour_duration_piv)"
   ]
  },
  {
   "cell_type": "markdown",
   "id": "d2853e2c",
   "metadata": {
    "papermill": {
     "duration": 0.078402,
     "end_time": "2022-02-11T20:38:13.900560",
     "exception": false,
     "start_time": "2022-02-11T20:38:13.822158",
     "status": "completed"
    },
    "tags": []
   },
   "source": [
    "**Findings** -\n",
    "\n",
    "* Its clear from the above plot that on day 5, that is Saturday and day 6 that is Sunday, the trip duration is very less that all the weekdays at 5 AM to 15 AM time.\n",
    "* See this, on Saturday (5) around midnight, the rides are taking far more than usual time, On Sunday(6) in the morning, The rides are takes far less than usual time, this is obvious through now verified using given data"
   ]
  },
  {
   "cell_type": "markdown",
   "id": "ab162dc0",
   "metadata": {
    "papermill": {
     "duration": 0.07655,
     "end_time": "2022-02-11T20:38:14.053797",
     "exception": false,
     "start_time": "2022-02-11T20:38:13.977247",
     "status": "completed"
    },
    "tags": []
   },
   "source": [
    "**Travel time VS Trip Duration**"
   ]
  },
  {
   "cell_type": "markdown",
   "id": "330ca18a",
   "metadata": {
    "papermill": {
     "duration": 0.0752,
     "end_time": "2022-02-11T20:38:14.204524",
     "exception": false,
     "start_time": "2022-02-11T20:38:14.129324",
     "status": "completed"
    },
    "tags": []
   },
   "source": [
    "Check if trip duration and the difference between pickup and dropoff time is equal"
   ]
  },
  {
   "cell_type": "code",
   "execution_count": 20,
   "id": "542b1cec",
   "metadata": {
    "execution": {
     "iopub.execute_input": "2022-02-11T20:38:14.363447Z",
     "iopub.status.busy": "2022-02-11T20:38:14.362791Z",
     "iopub.status.idle": "2022-02-11T20:38:15.674468Z",
     "shell.execute_reply": "2022-02-11T20:38:15.673862Z",
     "shell.execute_reply.started": "2022-02-11T19:29:22.180063Z"
    },
    "papermill": {
     "duration": 1.394539,
     "end_time": "2022-02-11T20:38:15.674628",
     "exception": false,
     "start_time": "2022-02-11T20:38:14.280089",
     "status": "completed"
    },
    "tags": []
   },
   "outputs": [],
   "source": [
    "data=df.copy()\n",
    "data['pickup_datetime'] = pd.to_datetime(data.pickup_datetime)\n",
    "data['dropoff_datetime'] = pd.to_datetime(data.dropoff_datetime)\n",
    "\n",
    "df[\"travel_time\"]=(data['dropoff_datetime'] - data['pickup_datetime']).dt.total_seconds()\n",
    "difference=df['trip_duration']-df['travel_time']"
   ]
  },
  {
   "cell_type": "code",
   "execution_count": 21,
   "id": "75dd2a44",
   "metadata": {
    "execution": {
     "iopub.execute_input": "2022-02-11T20:38:15.831538Z",
     "iopub.status.busy": "2022-02-11T20:38:15.830820Z",
     "iopub.status.idle": "2022-02-11T20:38:15.881059Z",
     "shell.execute_reply": "2022-02-11T20:38:15.881613Z",
     "shell.execute_reply.started": "2022-02-11T19:29:25.923405Z"
    },
    "papermill": {
     "duration": 0.129895,
     "end_time": "2022-02-11T20:38:15.881811",
     "exception": false,
     "start_time": "2022-02-11T20:38:15.751916",
     "status": "completed"
    },
    "tags": []
   },
   "outputs": [
    {
     "data": {
      "text/plain": [
       "count    729320.0\n",
       "mean         -0.0\n",
       "std           0.0\n",
       "min          -0.0\n",
       "25%           0.0\n",
       "50%           0.0\n",
       "75%           0.0\n",
       "max           0.0\n",
       "dtype: float64"
      ]
     },
     "execution_count": 21,
     "metadata": {},
     "output_type": "execute_result"
    }
   ],
   "source": [
    "round(difference.describe())"
   ]
  },
  {
   "cell_type": "markdown",
   "id": "7167777e",
   "metadata": {
    "papermill": {
     "duration": 0.076488,
     "end_time": "2022-02-11T20:38:16.036579",
     "exception": false,
     "start_time": "2022-02-11T20:38:15.960091",
     "status": "completed"
    },
    "tags": []
   },
   "source": [
    "# **Prepare the Data for Machine Learning Algorithms**"
   ]
  },
  {
   "cell_type": "markdown",
   "id": "4af66989",
   "metadata": {
    "papermill": {
     "duration": 0.07565,
     "end_time": "2022-02-11T20:38:16.188272",
     "exception": false,
     "start_time": "2022-02-11T20:38:16.112622",
     "status": "completed"
    },
    "tags": []
   },
   "source": [
    "**Drop outliers from trip_duration**"
   ]
  },
  {
   "cell_type": "code",
   "execution_count": 22,
   "id": "81ad46d5",
   "metadata": {
    "execution": {
     "iopub.execute_input": "2022-02-11T20:38:16.344759Z",
     "iopub.status.busy": "2022-02-11T20:38:16.344112Z",
     "iopub.status.idle": "2022-02-11T20:38:16.400273Z",
     "shell.execute_reply": "2022-02-11T20:38:16.400892Z",
     "shell.execute_reply.started": "2022-02-11T19:29:36.220997Z"
    },
    "papermill": {
     "duration": 0.136877,
     "end_time": "2022-02-11T20:38:16.401062",
     "exception": false,
     "start_time": "2022-02-11T20:38:16.264185",
     "status": "completed"
    },
    "tags": []
   },
   "outputs": [
    {
     "data": {
      "text/plain": [
       "count     729320.0\n",
       "mean         952.0\n",
       "std         3865.0\n",
       "min            1.0\n",
       "50%          663.0\n",
       "99%         3429.0\n",
       "99.5%       4128.0\n",
       "99.8%       5461.0\n",
       "max      1939736.0\n",
       "Name: trip_duration, dtype: float64"
      ]
     },
     "execution_count": 22,
     "metadata": {},
     "output_type": "execute_result"
    }
   ],
   "source": [
    "round(df[\"trip_duration\"].describe([0.99,0.995,0.998]))"
   ]
  },
  {
   "cell_type": "code",
   "execution_count": 23,
   "id": "c54b9d1f",
   "metadata": {
    "execution": {
     "iopub.execute_input": "2022-02-11T20:38:16.557673Z",
     "iopub.status.busy": "2022-02-11T20:38:16.557011Z",
     "iopub.status.idle": "2022-02-11T20:38:16.790864Z",
     "shell.execute_reply": "2022-02-11T20:38:16.790193Z",
     "shell.execute_reply.started": "2022-02-11T19:29:49.948579Z"
    },
    "papermill": {
     "duration": 0.313479,
     "end_time": "2022-02-11T20:38:16.791035",
     "exception": false,
     "start_time": "2022-02-11T20:38:16.477556",
     "status": "completed"
    },
    "tags": []
   },
   "outputs": [
    {
     "data": {
      "text/plain": [
       "(727832, 12)"
      ]
     },
     "execution_count": 23,
     "metadata": {},
     "output_type": "execute_result"
    }
   ],
   "source": [
    "df = df[(df.trip_duration < 5400)]\n",
    "\n",
    "df.shape"
   ]
  },
  {
   "cell_type": "markdown",
   "id": "c85fa681",
   "metadata": {
    "papermill": {
     "duration": 0.079958,
     "end_time": "2022-02-11T20:38:16.949233",
     "exception": false,
     "start_time": "2022-02-11T20:38:16.869275",
     "status": "completed"
    },
    "tags": []
   },
   "source": [
    "**Only keep trips with passengers >0**"
   ]
  },
  {
   "cell_type": "code",
   "execution_count": 24,
   "id": "69f1efe2",
   "metadata": {
    "execution": {
     "iopub.execute_input": "2022-02-11T20:38:17.113326Z",
     "iopub.status.busy": "2022-02-11T20:38:17.108862Z",
     "iopub.status.idle": "2022-02-11T20:38:17.354217Z",
     "shell.execute_reply": "2022-02-11T20:38:17.354720Z",
     "shell.execute_reply.started": "2022-02-11T19:29:54.152533Z"
    },
    "papermill": {
     "duration": 0.327205,
     "end_time": "2022-02-11T20:38:17.354916",
     "exception": false,
     "start_time": "2022-02-11T20:38:17.027711",
     "status": "completed"
    },
    "tags": []
   },
   "outputs": [
    {
     "data": {
      "text/plain": [
       "(727799, 12)"
      ]
     },
     "execution_count": 24,
     "metadata": {},
     "output_type": "execute_result"
    }
   ],
   "source": [
    "df = df[(df.passenger_count > 0)]\n",
    "\n",
    "df.shape"
   ]
  },
  {
   "cell_type": "markdown",
   "id": "c1f2c044",
   "metadata": {
    "papermill": {
     "duration": 0.076494,
     "end_time": "2022-02-11T20:38:17.508207",
     "exception": false,
     "start_time": "2022-02-11T20:38:17.431713",
     "status": "completed"
    },
    "tags": []
   },
   "source": [
    "**Conduct log-transformation of trip_duration**"
   ]
  },
  {
   "cell_type": "code",
   "execution_count": 25,
   "id": "fada9855",
   "metadata": {
    "execution": {
     "iopub.execute_input": "2022-02-11T20:38:17.666062Z",
     "iopub.status.busy": "2022-02-11T20:38:17.665354Z",
     "iopub.status.idle": "2022-02-11T20:38:18.142285Z",
     "shell.execute_reply": "2022-02-11T20:38:18.141639Z",
     "shell.execute_reply.started": "2022-02-11T19:30:06.944341Z"
    },
    "papermill": {
     "duration": 0.557238,
     "end_time": "2022-02-11T20:38:18.142455",
     "exception": false,
     "start_time": "2022-02-11T20:38:17.585217",
     "status": "completed"
    },
    "tags": []
   },
   "outputs": [
    {
     "data": {
      "image/png": "[encoded data removed]",
      "text/plain": [
       "<Figure size 1296x432 with 1 Axes>"
      ]
     },
     "metadata": {},
     "output_type": "display_data"
    }
   ],
   "source": [
    "#Visualize the distribution of trip_duration values\n",
    "plt.subplots(figsize=(18,6))\n",
    "plt.xlim(0,4000)\n",
    "plt.hist(df['trip_duration'].values, bins=100,color=\"b\")\n",
    "plt.xlabel('trip_duration')\n",
    "plt.ylabel('number of train records')\n",
    "plt.show()"
   ]
  },
  {
   "cell_type": "code",
   "execution_count": 26,
   "id": "2851d700",
   "metadata": {
    "execution": {
     "iopub.execute_input": "2022-02-11T20:38:18.313605Z",
     "iopub.status.busy": "2022-02-11T20:38:18.312743Z",
     "iopub.status.idle": "2022-02-11T20:38:18.340349Z",
     "shell.execute_reply": "2022-02-11T20:38:18.339683Z",
     "shell.execute_reply.started": "2022-02-11T19:30:17.665004Z"
    },
    "papermill": {
     "duration": 0.11624,
     "end_time": "2022-02-11T20:38:18.340539",
     "exception": false,
     "start_time": "2022-02-11T20:38:18.224299",
     "status": "completed"
    },
    "tags": []
   },
   "outputs": [],
   "source": [
    "df['trip_duration'] = np.log(df['trip_duration'].values)"
   ]
  },
  {
   "cell_type": "code",
   "execution_count": 27,
   "id": "c584c86b",
   "metadata": {
    "execution": {
     "iopub.execute_input": "2022-02-11T20:38:18.508681Z",
     "iopub.status.busy": "2022-02-11T20:38:18.507985Z",
     "iopub.status.idle": "2022-02-11T20:38:18.971328Z",
     "shell.execute_reply": "2022-02-11T20:38:18.971880Z",
     "shell.execute_reply.started": "2022-02-11T19:30:24.737095Z"
    },
    "papermill": {
     "duration": 0.549805,
     "end_time": "2022-02-11T20:38:18.972093",
     "exception": false,
     "start_time": "2022-02-11T20:38:18.422288",
     "status": "completed"
    },
    "tags": []
   },
   "outputs": [
    {
     "data": {
      "image/png": "[encoded data removed]",
      "text/plain": [
       "<Figure size 1296x432 with 1 Axes>"
      ]
     },
     "metadata": {},
     "output_type": "display_data"
    }
   ],
   "source": [
    "#Log-transformation\n",
    "plt.subplots(figsize=(18,6))\n",
    "plt.xlim(1,10)\n",
    "plt.hist(df['trip_duration'].values, bins=100,color=\"y\")\n",
    "plt.xlabel('log(trip_duration)')\n",
    "plt.ylabel('number of train records')\n",
    "plt.show()"
   ]
  },
  {
   "cell_type": "markdown",
   "id": "371a17dc",
   "metadata": {
    "papermill": {
     "duration": 0.080964,
     "end_time": "2022-02-11T20:38:19.136424",
     "exception": false,
     "start_time": "2022-02-11T20:38:19.055460",
     "status": "completed"
    },
    "tags": []
   },
   "source": [
    "**Add Distance (miles)**"
   ]
  },
  {
   "cell_type": "markdown",
   "id": "30423d38",
   "metadata": {
    "papermill": {
     "duration": 0.078476,
     "end_time": "2022-02-11T20:38:19.294163",
     "exception": false,
     "start_time": "2022-02-11T20:38:19.215687",
     "status": "completed"
    },
    "tags": []
   },
   "source": [
    "I am going to use the **‘haversine’** formula to calculate the great-circle distance between two points.The Haversine (or great circle) distance is the angular distance between two points on the surface of a sphere."
   ]
  },
  {
   "cell_type": "code",
   "execution_count": 28,
   "id": "58bc5ef4",
   "metadata": {
    "execution": {
     "iopub.execute_input": "2022-02-11T20:38:19.455738Z",
     "iopub.status.busy": "2022-02-11T20:38:19.455026Z",
     "iopub.status.idle": "2022-02-11T20:38:19.462668Z",
     "shell.execute_reply": "2022-02-11T20:38:19.462102Z",
     "shell.execute_reply.started": "2022-02-11T19:34:47.820546Z"
    },
    "papermill": {
     "duration": 0.089503,
     "end_time": "2022-02-11T20:38:19.462836",
     "exception": false,
     "start_time": "2022-02-11T20:38:19.373333",
     "status": "completed"
    },
    "tags": []
   },
   "outputs": [],
   "source": [
    "from math import radians, cos, sin, asin, sqrt\n",
    "\n",
    "def haversine(lon1, lat1, lon2, lat2):\n",
    "    \"\"\"\n",
    "    Calculate the great circle distance in kilometers between two points \n",
    "    on the earth (specified in decimal degrees)\n",
    "    \"\"\"\n",
    "    # convert decimal degrees to radians \n",
    "    lon1, lat1, lon2, lat2 = map(radians, [lon1, lat1, lon2, lat2])\n",
    "\n",
    "    # haversine formula \n",
    "    dlon = lon2 - lon1 \n",
    "    dlat = lat2 - lat1 \n",
    "    a = sin(dlat/2)**2 + cos(lat1) * cos(lat2) * sin(dlon/2)**2\n",
    "    c = 2 * asin(sqrt(a)) \n",
    "    r = 3956    # Use 6371 Radius of earth in kilometers. Use 3956 for miles. Determines return value units.\n",
    "    return c * r"
   ]
  },
  {
   "cell_type": "code",
   "execution_count": 29,
   "id": "88bd3a2a",
   "metadata": {
    "execution": {
     "iopub.execute_input": "2022-02-11T20:38:19.625806Z",
     "iopub.status.busy": "2022-02-11T20:38:19.625124Z",
     "iopub.status.idle": "2022-02-11T20:40:07.411219Z",
     "shell.execute_reply": "2022-02-11T20:40:07.410117Z",
     "shell.execute_reply.started": "2022-02-11T19:34:57.838136Z"
    },
    "papermill": {
     "duration": 107.869078,
     "end_time": "2022-02-11T20:40:07.411622",
     "exception": false,
     "start_time": "2022-02-11T20:38:19.542544",
     "status": "completed"
    },
    "tags": []
   },
   "outputs": [],
   "source": [
    "x = lambda df: haversine(df.pickup_longitude,df.pickup_latitude,df.dropoff_longitude,df.dropoff_latitude) #lambda array function\n",
    "df[\"distance\"] = df.apply(x, axis=1)"
   ]
  },
  {
   "cell_type": "markdown",
   "id": "155c3c39",
   "metadata": {
    "papermill": {
     "duration": 0.078526,
     "end_time": "2022-02-11T20:40:07.573308",
     "exception": false,
     "start_time": "2022-02-11T20:40:07.494782",
     "status": "completed"
    },
    "tags": []
   },
   "source": [
    "**Remove distance outliers**"
   ]
  },
  {
   "cell_type": "code",
   "execution_count": 30,
   "id": "f8593dde",
   "metadata": {
    "execution": {
     "iopub.execute_input": "2022-02-11T20:40:07.740703Z",
     "iopub.status.busy": "2022-02-11T20:40:07.739903Z",
     "iopub.status.idle": "2022-02-11T20:40:11.895738Z",
     "shell.execute_reply": "2022-02-11T20:40:11.896327Z",
     "shell.execute_reply.started": "2022-02-11T19:36:20.661680Z"
    },
    "papermill": {
     "duration": 4.24201,
     "end_time": "2022-02-11T20:40:11.896521",
     "exception": false,
     "start_time": "2022-02-11T20:40:07.654511",
     "status": "completed"
    },
    "tags": []
   },
   "outputs": [
    {
     "data": {
      "image/png": "[encoded data removed]",
      "text/plain": [
       "<Figure size 432x288 with 1 Axes>"
      ]
     },
     "metadata": {},
     "output_type": "display_data"
    }
   ],
   "source": [
    "#Visualize distance outliers\n",
    "df.boxplot(column='distance', return_type='axes');"
   ]
  },
  {
   "cell_type": "code",
   "execution_count": 31,
   "id": "55d049bb",
   "metadata": {
    "execution": {
     "iopub.execute_input": "2022-02-11T20:40:12.061121Z",
     "iopub.status.busy": "2022-02-11T20:40:12.060093Z",
     "iopub.status.idle": "2022-02-11T20:40:12.118336Z",
     "shell.execute_reply": "2022-02-11T20:40:12.118869Z",
     "shell.execute_reply.started": "2022-02-11T19:36:32.585212Z"
    },
    "papermill": {
     "duration": 0.142326,
     "end_time": "2022-02-11T20:40:12.119043",
     "exception": false,
     "start_time": "2022-02-11T20:40:11.976717",
     "status": "completed"
    },
    "tags": []
   },
   "outputs": [
    {
     "data": {
      "text/plain": [
       "count       727799.0\n",
       "mean             2.0\n",
       "std              3.0\n",
       "min              0.0\n",
       "50%              1.0\n",
       "99.8%           14.0\n",
       "99.999%         60.0\n",
       "99.9995%       171.0\n",
       "max            357.0\n",
       "Name: distance, dtype: float64"
      ]
     },
     "execution_count": 31,
     "metadata": {},
     "output_type": "execute_result"
    }
   ],
   "source": [
    "round(df.distance.describe([0.998,0.99999,0.999995]))"
   ]
  },
  {
   "cell_type": "code",
   "execution_count": 32,
   "id": "0bcc6194",
   "metadata": {
    "execution": {
     "iopub.execute_input": "2022-02-11T20:40:12.282344Z",
     "iopub.status.busy": "2022-02-11T20:40:12.281378Z",
     "iopub.status.idle": "2022-02-11T20:40:12.663389Z",
     "shell.execute_reply": "2022-02-11T20:40:12.663902Z",
     "shell.execute_reply.started": "2022-02-11T19:37:17.136104Z"
    },
    "papermill": {
     "duration": 0.465506,
     "end_time": "2022-02-11T20:40:12.664085",
     "exception": false,
     "start_time": "2022-02-11T20:40:12.198579",
     "status": "completed"
    },
    "tags": []
   },
   "outputs": [
    {
     "data": {
      "text/plain": [
       "(727795, 13)"
      ]
     },
     "execution_count": 32,
     "metadata": {},
     "output_type": "execute_result"
    }
   ],
   "source": [
    "df = df[(df.distance < 171)]\n",
    "df.shape"
   ]
  },
  {
   "cell_type": "markdown",
   "id": "630e6ca5",
   "metadata": {
    "papermill": {
     "duration": 0.081121,
     "end_time": "2022-02-11T20:40:12.827730",
     "exception": false,
     "start_time": "2022-02-11T20:40:12.746609",
     "status": "completed"
    },
    "tags": []
   },
   "source": [
    "**Add spead (miles/seconds) and drop outliers**"
   ]
  },
  {
   "cell_type": "code",
   "execution_count": 33,
   "id": "24b401e1",
   "metadata": {
    "execution": {
     "iopub.execute_input": "2022-02-11T20:40:12.996651Z",
     "iopub.status.busy": "2022-02-11T20:40:12.995599Z",
     "iopub.status.idle": "2022-02-11T20:40:13.036089Z",
     "shell.execute_reply": "2022-02-11T20:40:13.036586Z",
     "shell.execute_reply.started": "2022-02-11T19:37:34.243156Z"
    },
    "papermill": {
     "duration": 0.127846,
     "end_time": "2022-02-11T20:40:13.036801",
     "exception": false,
     "start_time": "2022-02-11T20:40:12.908955",
     "status": "completed"
    },
    "tags": []
   },
   "outputs": [
    {
     "data": {
      "text/html": [
       "<div>\n",
       "<style scoped>\n",
       "    .dataframe tbody tr th:only-of-type {\n",
       "        vertical-align: middle;\n",
       "    }\n",
       "\n",
       "    .dataframe tbody tr th {\n",
       "        vertical-align: top;\n",
       "    }\n",
       "\n",
       "    .dataframe thead th {\n",
       "        text-align: right;\n",
       "    }\n",
       "</style>\n",
       "<table border=\"1\" class=\"dataframe\">\n",
       "  <thead>\n",
       "    <tr style=\"text-align: right;\">\n",
       "      <th></th>\n",
       "      <th>id</th>\n",
       "      <th>vendor_id</th>\n",
       "      <th>pickup_datetime</th>\n",
       "      <th>dropoff_datetime</th>\n",
       "      <th>passenger_count</th>\n",
       "      <th>pickup_longitude</th>\n",
       "      <th>pickup_latitude</th>\n",
       "      <th>dropoff_longitude</th>\n",
       "      <th>dropoff_latitude</th>\n",
       "      <th>store_and_fwd_flag</th>\n",
       "      <th>trip_duration</th>\n",
       "      <th>travel_time</th>\n",
       "      <th>distance</th>\n",
       "      <th>speed</th>\n",
       "    </tr>\n",
       "  </thead>\n",
       "  <tbody>\n",
       "    <tr>\n",
       "      <th>0</th>\n",
       "      <td>id1080784</td>\n",
       "      <td>2</td>\n",
       "      <td>2016-02-29 16:40:21</td>\n",
       "      <td>2016-02-29 16:47:01</td>\n",
       "      <td>1</td>\n",
       "      <td>-73.953918</td>\n",
       "      <td>40.778873</td>\n",
       "      <td>-73.963875</td>\n",
       "      <td>40.771164</td>\n",
       "      <td>N</td>\n",
       "      <td>5.991465</td>\n",
       "      <td>400.0</td>\n",
       "      <td>0.744551</td>\n",
       "      <td>0.124269</td>\n",
       "    </tr>\n",
       "    <tr>\n",
       "      <th>1</th>\n",
       "      <td>id0889885</td>\n",
       "      <td>1</td>\n",
       "      <td>2016-03-11 23:35:37</td>\n",
       "      <td>2016-03-11 23:53:57</td>\n",
       "      <td>2</td>\n",
       "      <td>-73.988312</td>\n",
       "      <td>40.731743</td>\n",
       "      <td>-73.994751</td>\n",
       "      <td>40.694931</td>\n",
       "      <td>N</td>\n",
       "      <td>7.003065</td>\n",
       "      <td>1100.0</td>\n",
       "      <td>2.563925</td>\n",
       "      <td>0.366115</td>\n",
       "    </tr>\n",
       "    <tr>\n",
       "      <th>2</th>\n",
       "      <td>id0857912</td>\n",
       "      <td>2</td>\n",
       "      <td>2016-02-21 17:59:33</td>\n",
       "      <td>2016-02-21 18:26:48</td>\n",
       "      <td>2</td>\n",
       "      <td>-73.997314</td>\n",
       "      <td>40.721458</td>\n",
       "      <td>-73.948029</td>\n",
       "      <td>40.774918</td>\n",
       "      <td>N</td>\n",
       "      <td>7.399398</td>\n",
       "      <td>1635.0</td>\n",
       "      <td>4.502273</td>\n",
       "      <td>0.608465</td>\n",
       "    </tr>\n",
       "    <tr>\n",
       "      <th>3</th>\n",
       "      <td>id3744273</td>\n",
       "      <td>2</td>\n",
       "      <td>2016-01-05 09:44:31</td>\n",
       "      <td>2016-01-05 10:03:32</td>\n",
       "      <td>6</td>\n",
       "      <td>-73.961670</td>\n",
       "      <td>40.759720</td>\n",
       "      <td>-73.956779</td>\n",
       "      <td>40.780628</td>\n",
       "      <td>N</td>\n",
       "      <td>7.039660</td>\n",
       "      <td>1141.0</td>\n",
       "      <td>1.466097</td>\n",
       "      <td>0.208262</td>\n",
       "    </tr>\n",
       "    <tr>\n",
       "      <th>4</th>\n",
       "      <td>id0232939</td>\n",
       "      <td>1</td>\n",
       "      <td>2016-02-17 06:42:23</td>\n",
       "      <td>2016-02-17 06:56:31</td>\n",
       "      <td>1</td>\n",
       "      <td>-74.017120</td>\n",
       "      <td>40.708469</td>\n",
       "      <td>-73.988182</td>\n",
       "      <td>40.740631</td>\n",
       "      <td>N</td>\n",
       "      <td>6.742881</td>\n",
       "      <td>848.0</td>\n",
       "      <td>2.687754</td>\n",
       "      <td>0.398606</td>\n",
       "    </tr>\n",
       "  </tbody>\n",
       "</table>\n",
       "</div>"
      ],
      "text/plain": [
       "          id  vendor_id      pickup_datetime     dropoff_datetime  \\\n",
       "0  id1080784          2  2016-02-29 16:40:21  2016-02-29 16:47:01   \n",
       "1  id0889885          1  2016-03-11 23:35:37  2016-03-11 23:53:57   \n",
       "2  id0857912          2  2016-02-21 17:59:33  2016-02-21 18:26:48   \n",
       "3  id3744273          2  2016-01-05 09:44:31  2016-01-05 10:03:32   \n",
       "4  id0232939          1  2016-02-17 06:42:23  2016-02-17 06:56:31   \n",
       "\n",
       "   passenger_count  pickup_longitude  pickup_latitude  dropoff_longitude  \\\n",
       "0                1        -73.953918        40.778873         -73.963875   \n",
       "1                2        -73.988312        40.731743         -73.994751   \n",
       "2                2        -73.997314        40.721458         -73.948029   \n",
       "3                6        -73.961670        40.759720         -73.956779   \n",
       "4                1        -74.017120        40.708469         -73.988182   \n",
       "\n",
       "   dropoff_latitude store_and_fwd_flag  trip_duration  travel_time  distance  \\\n",
       "0         40.771164                  N       5.991465        400.0  0.744551   \n",
       "1         40.694931                  N       7.003065       1100.0  2.563925   \n",
       "2         40.774918                  N       7.399398       1635.0  4.502273   \n",
       "3         40.780628                  N       7.039660       1141.0  1.466097   \n",
       "4         40.740631                  N       6.742881        848.0  2.687754   \n",
       "\n",
       "      speed  \n",
       "0  0.124269  \n",
       "1  0.366115  \n",
       "2  0.608465  \n",
       "3  0.208262  \n",
       "4  0.398606  "
      ]
     },
     "execution_count": 33,
     "metadata": {},
     "output_type": "execute_result"
    }
   ],
   "source": [
    "df['speed'] = df.distance / np.log(df.travel_time)\n",
    "df.head()"
   ]
  },
  {
   "cell_type": "code",
   "execution_count": 34,
   "id": "7179a099",
   "metadata": {
    "execution": {
     "iopub.execute_input": "2022-02-11T20:40:13.208953Z",
     "iopub.status.busy": "2022-02-11T20:40:13.207906Z",
     "iopub.status.idle": "2022-02-11T20:40:17.328114Z",
     "shell.execute_reply": "2022-02-11T20:40:17.327423Z",
     "shell.execute_reply.started": "2022-02-11T19:37:43.026959Z"
    },
    "papermill": {
     "duration": 4.207124,
     "end_time": "2022-02-11T20:40:17.328298",
     "exception": false,
     "start_time": "2022-02-11T20:40:13.121174",
     "status": "completed"
    },
    "tags": []
   },
   "outputs": [
    {
     "data": {
      "image/png": "[encoded data removed]",
      "text/plain": [
       "<Figure size 432x288 with 1 Axes>"
      ]
     },
     "metadata": {},
     "output_type": "display_data"
    }
   ],
   "source": [
    "df.boxplot(column='speed', return_type='axes');"
   ]
  },
  {
   "cell_type": "code",
   "execution_count": 35,
   "id": "0e53eb40",
   "metadata": {
    "execution": {
     "iopub.execute_input": "2022-02-11T20:40:17.513581Z",
     "iopub.status.busy": "2022-02-11T20:40:17.512787Z",
     "iopub.status.idle": "2022-02-11T20:40:18.040391Z",
     "shell.execute_reply": "2022-02-11T20:40:18.039733Z",
     "shell.execute_reply.started": "2022-02-11T19:37:59.013181Z"
    },
    "papermill": {
     "duration": 0.623641,
     "end_time": "2022-02-11T20:40:18.040549",
     "exception": false,
     "start_time": "2022-02-11T20:40:17.416908",
     "status": "completed"
    },
    "tags": []
   },
   "outputs": [
    {
     "data": {
      "text/plain": [
       "(727780, 13)"
      ]
     },
     "execution_count": 35,
     "metadata": {},
     "output_type": "execute_result"
    }
   ],
   "source": [
    "df = df[(df.speed < 10)]\n",
    "df.drop(['speed'], axis=1, inplace=True)\n",
    "df.shape"
   ]
  },
  {
   "cell_type": "markdown",
   "id": "a576d397",
   "metadata": {
    "papermill": {
     "duration": 0.086242,
     "end_time": "2022-02-11T20:40:18.215031",
     "exception": false,
     "start_time": "2022-02-11T20:40:18.128789",
     "status": "completed"
    },
    "tags": []
   },
   "source": [
    "**Add direction** values 0 to 7\n",
    "> [\"north\",\"north east\",\"east\",\"south east\",\"south\",\"south west\",\"west\",\"north west\"]"
   ]
  },
  {
   "cell_type": "code",
   "execution_count": 36,
   "id": "e992ac13",
   "metadata": {
    "execution": {
     "iopub.execute_input": "2022-02-11T20:40:18.391739Z",
     "iopub.status.busy": "2022-02-11T20:40:18.390975Z",
     "iopub.status.idle": "2022-02-11T20:40:18.394750Z",
     "shell.execute_reply": "2022-02-11T20:40:18.394085Z",
     "shell.execute_reply.started": "2022-02-11T19:39:52.703019Z"
    },
    "papermill": {
     "duration": 0.096129,
     "end_time": "2022-02-11T20:40:18.394929",
     "exception": false,
     "start_time": "2022-02-11T20:40:18.298800",
     "status": "completed"
    },
    "tags": []
   },
   "outputs": [],
   "source": [
    "import math\n",
    "def calcBearing (lat1, long1, lat2, long2):\n",
    "    dLon = (long2 - long1)\n",
    "    x = math.cos(math.radians(lat2)) * math.sin(math.radians(dLon))\n",
    "    y = math.cos(math.radians(lat1)) * math.sin(math.radians(lat2)) - math.sin(math.radians(lat1)) * math.cos(math.radians(lat2)) * math.cos(math.radians(dLon))\n",
    "    bearing = math.atan2(x,y)   # use atan2 to determine the quadrant\n",
    "    bearing = math.degrees(bearing)\n",
    "    bearing += 22.5\n",
    "    bearing = bearing % 360\n",
    "    bearing = int(bearing / 45) # values 0 to 7 [\"north\", \"north east\", \"east\", \"south east\", \"south\", \"south west\", \"west\", \"north west\"]\n",
    "    return bearing\n"
   ]
  },
  {
   "cell_type": "code",
   "execution_count": 37,
   "id": "82581c38",
   "metadata": {
    "execution": {
     "iopub.execute_input": "2022-02-11T20:40:18.573882Z",
     "iopub.status.busy": "2022-02-11T20:40:18.573152Z",
     "iopub.status.idle": "2022-02-11T20:42:07.184039Z",
     "shell.execute_reply": "2022-02-11T20:42:07.183186Z",
     "shell.execute_reply.started": "2022-02-11T19:39:57.818516Z"
    },
    "papermill": {
     "duration": 108.701675,
     "end_time": "2022-02-11T20:42:07.184311",
     "exception": false,
     "start_time": "2022-02-11T20:40:18.482636",
     "status": "completed"
    },
    "tags": []
   },
   "outputs": [],
   "source": [
    "t = lambda df: calcBearing(df.pickup_latitude,df.pickup_longitude,df.dropoff_latitude,df.dropoff_longitude,) #lambda array function\n",
    "df[\"direction\"] = df.apply(t, axis=1)"
   ]
  },
  {
   "cell_type": "code",
   "execution_count": 38,
   "id": "9dc5c437",
   "metadata": {
    "execution": {
     "iopub.execute_input": "2022-02-11T20:42:07.357082Z",
     "iopub.status.busy": "2022-02-11T20:42:07.356083Z",
     "iopub.status.idle": "2022-02-11T20:42:07.374987Z",
     "shell.execute_reply": "2022-02-11T20:42:07.375477Z",
     "shell.execute_reply.started": "2022-02-11T19:41:25.464275Z"
    },
    "papermill": {
     "duration": 0.106391,
     "end_time": "2022-02-11T20:42:07.375663",
     "exception": false,
     "start_time": "2022-02-11T20:42:07.269272",
     "status": "completed"
    },
    "tags": []
   },
   "outputs": [
    {
     "data": {
      "text/html": [
       "<div>\n",
       "<style scoped>\n",
       "    .dataframe tbody tr th:only-of-type {\n",
       "        vertical-align: middle;\n",
       "    }\n",
       "\n",
       "    .dataframe tbody tr th {\n",
       "        vertical-align: top;\n",
       "    }\n",
       "\n",
       "    .dataframe thead th {\n",
       "        text-align: right;\n",
       "    }\n",
       "</style>\n",
       "<table border=\"1\" class=\"dataframe\">\n",
       "  <thead>\n",
       "    <tr style=\"text-align: right;\">\n",
       "      <th></th>\n",
       "      <th>id</th>\n",
       "      <th>vendor_id</th>\n",
       "      <th>pickup_datetime</th>\n",
       "      <th>dropoff_datetime</th>\n",
       "      <th>passenger_count</th>\n",
       "      <th>pickup_longitude</th>\n",
       "      <th>pickup_latitude</th>\n",
       "      <th>dropoff_longitude</th>\n",
       "      <th>dropoff_latitude</th>\n",
       "      <th>store_and_fwd_flag</th>\n",
       "      <th>trip_duration</th>\n",
       "      <th>travel_time</th>\n",
       "      <th>distance</th>\n",
       "      <th>direction</th>\n",
       "    </tr>\n",
       "  </thead>\n",
       "  <tbody>\n",
       "    <tr>\n",
       "      <th>0</th>\n",
       "      <td>id1080784</td>\n",
       "      <td>2</td>\n",
       "      <td>2016-02-29 16:40:21</td>\n",
       "      <td>2016-02-29 16:47:01</td>\n",
       "      <td>1</td>\n",
       "      <td>-73.953918</td>\n",
       "      <td>40.778873</td>\n",
       "      <td>-73.963875</td>\n",
       "      <td>40.771164</td>\n",
       "      <td>N</td>\n",
       "      <td>5.991465</td>\n",
       "      <td>400.0</td>\n",
       "      <td>0.744551</td>\n",
       "      <td>5</td>\n",
       "    </tr>\n",
       "    <tr>\n",
       "      <th>1</th>\n",
       "      <td>id0889885</td>\n",
       "      <td>1</td>\n",
       "      <td>2016-03-11 23:35:37</td>\n",
       "      <td>2016-03-11 23:53:57</td>\n",
       "      <td>2</td>\n",
       "      <td>-73.988312</td>\n",
       "      <td>40.731743</td>\n",
       "      <td>-73.994751</td>\n",
       "      <td>40.694931</td>\n",
       "      <td>N</td>\n",
       "      <td>7.003065</td>\n",
       "      <td>1100.0</td>\n",
       "      <td>2.563925</td>\n",
       "      <td>4</td>\n",
       "    </tr>\n",
       "    <tr>\n",
       "      <th>2</th>\n",
       "      <td>id0857912</td>\n",
       "      <td>2</td>\n",
       "      <td>2016-02-21 17:59:33</td>\n",
       "      <td>2016-02-21 18:26:48</td>\n",
       "      <td>2</td>\n",
       "      <td>-73.997314</td>\n",
       "      <td>40.721458</td>\n",
       "      <td>-73.948029</td>\n",
       "      <td>40.774918</td>\n",
       "      <td>N</td>\n",
       "      <td>7.399398</td>\n",
       "      <td>1635.0</td>\n",
       "      <td>4.502273</td>\n",
       "      <td>1</td>\n",
       "    </tr>\n",
       "    <tr>\n",
       "      <th>3</th>\n",
       "      <td>id3744273</td>\n",
       "      <td>2</td>\n",
       "      <td>2016-01-05 09:44:31</td>\n",
       "      <td>2016-01-05 10:03:32</td>\n",
       "      <td>6</td>\n",
       "      <td>-73.961670</td>\n",
       "      <td>40.759720</td>\n",
       "      <td>-73.956779</td>\n",
       "      <td>40.780628</td>\n",
       "      <td>N</td>\n",
       "      <td>7.039660</td>\n",
       "      <td>1141.0</td>\n",
       "      <td>1.466097</td>\n",
       "      <td>0</td>\n",
       "    </tr>\n",
       "    <tr>\n",
       "      <th>4</th>\n",
       "      <td>id0232939</td>\n",
       "      <td>1</td>\n",
       "      <td>2016-02-17 06:42:23</td>\n",
       "      <td>2016-02-17 06:56:31</td>\n",
       "      <td>1</td>\n",
       "      <td>-74.017120</td>\n",
       "      <td>40.708469</td>\n",
       "      <td>-73.988182</td>\n",
       "      <td>40.740631</td>\n",
       "      <td>N</td>\n",
       "      <td>6.742881</td>\n",
       "      <td>848.0</td>\n",
       "      <td>2.687754</td>\n",
       "      <td>1</td>\n",
       "    </tr>\n",
       "  </tbody>\n",
       "</table>\n",
       "</div>"
      ],
      "text/plain": [
       "          id  vendor_id      pickup_datetime     dropoff_datetime  \\\n",
       "0  id1080784          2  2016-02-29 16:40:21  2016-02-29 16:47:01   \n",
       "1  id0889885          1  2016-03-11 23:35:37  2016-03-11 23:53:57   \n",
       "2  id0857912          2  2016-02-21 17:59:33  2016-02-21 18:26:48   \n",
       "3  id3744273          2  2016-01-05 09:44:31  2016-01-05 10:03:32   \n",
       "4  id0232939          1  2016-02-17 06:42:23  2016-02-17 06:56:31   \n",
       "\n",
       "   passenger_count  pickup_longitude  pickup_latitude  dropoff_longitude  \\\n",
       "0                1        -73.953918        40.778873         -73.963875   \n",
       "1                2        -73.988312        40.731743         -73.994751   \n",
       "2                2        -73.997314        40.721458         -73.948029   \n",
       "3                6        -73.961670        40.759720         -73.956779   \n",
       "4                1        -74.017120        40.708469         -73.988182   \n",
       "\n",
       "   dropoff_latitude store_and_fwd_flag  trip_duration  travel_time  distance  \\\n",
       "0         40.771164                  N       5.991465        400.0  0.744551   \n",
       "1         40.694931                  N       7.003065       1100.0  2.563925   \n",
       "2         40.774918                  N       7.399398       1635.0  4.502273   \n",
       "3         40.780628                  N       7.039660       1141.0  1.466097   \n",
       "4         40.740631                  N       6.742881        848.0  2.687754   \n",
       "\n",
       "   direction  \n",
       "0          5  \n",
       "1          4  \n",
       "2          1  \n",
       "3          0  \n",
       "4          1  "
      ]
     },
     "execution_count": 38,
     "metadata": {},
     "output_type": "execute_result"
    }
   ],
   "source": [
    "df.head()"
   ]
  },
  {
   "cell_type": "markdown",
   "id": "c8233355",
   "metadata": {
    "papermill": {
     "duration": 0.082862,
     "end_time": "2022-02-11T20:42:07.542226",
     "exception": false,
     "start_time": "2022-02-11T20:42:07.459364",
     "status": "completed"
    },
    "tags": []
   },
   "source": [
    "**Add variables related to pickup time**"
   ]
  },
  {
   "cell_type": "code",
   "execution_count": 39,
   "id": "dba3a6cf",
   "metadata": {
    "execution": {
     "iopub.execute_input": "2022-02-11T20:42:08.165509Z",
     "iopub.status.busy": "2022-02-11T20:42:08.164813Z",
     "iopub.status.idle": "2022-02-11T20:42:09.368985Z",
     "shell.execute_reply": "2022-02-11T20:42:09.368382Z",
     "shell.execute_reply.started": "2022-02-11T19:46:50.107927Z"
    },
    "papermill": {
     "duration": 1.743402,
     "end_time": "2022-02-11T20:42:09.369159",
     "exception": false,
     "start_time": "2022-02-11T20:42:07.625757",
     "status": "completed"
    },
    "tags": []
   },
   "outputs": [],
   "source": [
    "df['pickup_datetime'] = pd.to_datetime(df.pickup_datetime)\n",
    "\n",
    "df.loc[:, 'pick_month'] = df['pickup_datetime'].dt.month\n",
    "df.loc[:, 'day_of_year'] = df['pickup_datetime'].dt.dayofyear\n",
    "df.loc[:, 'day_of_week'] = df['pickup_datetime'].dt.dayofweek\n",
    "df.loc[:, 'hour'] = df['pickup_datetime'].dt.hour\n"
   ]
  },
  {
   "cell_type": "code",
   "execution_count": 40,
   "id": "93e70e3c",
   "metadata": {
    "execution": {
     "iopub.execute_input": "2022-02-11T20:42:09.545054Z",
     "iopub.status.busy": "2022-02-11T20:42:09.544367Z",
     "iopub.status.idle": "2022-02-11T20:42:09.563541Z",
     "shell.execute_reply": "2022-02-11T20:42:09.562877Z",
     "shell.execute_reply.started": "2022-02-11T19:46:54.186494Z"
    },
    "papermill": {
     "duration": 0.110236,
     "end_time": "2022-02-11T20:42:09.563690",
     "exception": false,
     "start_time": "2022-02-11T20:42:09.453454",
     "status": "completed"
    },
    "tags": []
   },
   "outputs": [
    {
     "data": {
      "text/html": [
       "<div>\n",
       "<style scoped>\n",
       "    .dataframe tbody tr th:only-of-type {\n",
       "        vertical-align: middle;\n",
       "    }\n",
       "\n",
       "    .dataframe tbody tr th {\n",
       "        vertical-align: top;\n",
       "    }\n",
       "\n",
       "    .dataframe thead th {\n",
       "        text-align: right;\n",
       "    }\n",
       "</style>\n",
       "<table border=\"1\" class=\"dataframe\">\n",
       "  <thead>\n",
       "    <tr style=\"text-align: right;\">\n",
       "      <th></th>\n",
       "      <th>id</th>\n",
       "      <th>vendor_id</th>\n",
       "      <th>pickup_datetime</th>\n",
       "      <th>dropoff_datetime</th>\n",
       "      <th>passenger_count</th>\n",
       "      <th>pickup_longitude</th>\n",
       "      <th>pickup_latitude</th>\n",
       "      <th>dropoff_longitude</th>\n",
       "      <th>dropoff_latitude</th>\n",
       "      <th>store_and_fwd_flag</th>\n",
       "      <th>trip_duration</th>\n",
       "      <th>travel_time</th>\n",
       "      <th>distance</th>\n",
       "      <th>direction</th>\n",
       "      <th>pick_month</th>\n",
       "      <th>day_of_year</th>\n",
       "      <th>day_of_week</th>\n",
       "      <th>hour</th>\n",
       "    </tr>\n",
       "  </thead>\n",
       "  <tbody>\n",
       "    <tr>\n",
       "      <th>0</th>\n",
       "      <td>id1080784</td>\n",
       "      <td>2</td>\n",
       "      <td>2016-02-29 16:40:21</td>\n",
       "      <td>2016-02-29 16:47:01</td>\n",
       "      <td>1</td>\n",
       "      <td>-73.953918</td>\n",
       "      <td>40.778873</td>\n",
       "      <td>-73.963875</td>\n",
       "      <td>40.771164</td>\n",
       "      <td>N</td>\n",
       "      <td>5.991465</td>\n",
       "      <td>400.0</td>\n",
       "      <td>0.744551</td>\n",
       "      <td>5</td>\n",
       "      <td>2</td>\n",
       "      <td>60</td>\n",
       "      <td>0</td>\n",
       "      <td>16</td>\n",
       "    </tr>\n",
       "    <tr>\n",
       "      <th>1</th>\n",
       "      <td>id0889885</td>\n",
       "      <td>1</td>\n",
       "      <td>2016-03-11 23:35:37</td>\n",
       "      <td>2016-03-11 23:53:57</td>\n",
       "      <td>2</td>\n",
       "      <td>-73.988312</td>\n",
       "      <td>40.731743</td>\n",
       "      <td>-73.994751</td>\n",
       "      <td>40.694931</td>\n",
       "      <td>N</td>\n",
       "      <td>7.003065</td>\n",
       "      <td>1100.0</td>\n",
       "      <td>2.563925</td>\n",
       "      <td>4</td>\n",
       "      <td>3</td>\n",
       "      <td>71</td>\n",
       "      <td>4</td>\n",
       "      <td>23</td>\n",
       "    </tr>\n",
       "    <tr>\n",
       "      <th>2</th>\n",
       "      <td>id0857912</td>\n",
       "      <td>2</td>\n",
       "      <td>2016-02-21 17:59:33</td>\n",
       "      <td>2016-02-21 18:26:48</td>\n",
       "      <td>2</td>\n",
       "      <td>-73.997314</td>\n",
       "      <td>40.721458</td>\n",
       "      <td>-73.948029</td>\n",
       "      <td>40.774918</td>\n",
       "      <td>N</td>\n",
       "      <td>7.399398</td>\n",
       "      <td>1635.0</td>\n",
       "      <td>4.502273</td>\n",
       "      <td>1</td>\n",
       "      <td>2</td>\n",
       "      <td>52</td>\n",
       "      <td>6</td>\n",
       "      <td>17</td>\n",
       "    </tr>\n",
       "    <tr>\n",
       "      <th>3</th>\n",
       "      <td>id3744273</td>\n",
       "      <td>2</td>\n",
       "      <td>2016-01-05 09:44:31</td>\n",
       "      <td>2016-01-05 10:03:32</td>\n",
       "      <td>6</td>\n",
       "      <td>-73.961670</td>\n",
       "      <td>40.759720</td>\n",
       "      <td>-73.956779</td>\n",
       "      <td>40.780628</td>\n",
       "      <td>N</td>\n",
       "      <td>7.039660</td>\n",
       "      <td>1141.0</td>\n",
       "      <td>1.466097</td>\n",
       "      <td>0</td>\n",
       "      <td>1</td>\n",
       "      <td>5</td>\n",
       "      <td>1</td>\n",
       "      <td>9</td>\n",
       "    </tr>\n",
       "    <tr>\n",
       "      <th>4</th>\n",
       "      <td>id0232939</td>\n",
       "      <td>1</td>\n",
       "      <td>2016-02-17 06:42:23</td>\n",
       "      <td>2016-02-17 06:56:31</td>\n",
       "      <td>1</td>\n",
       "      <td>-74.017120</td>\n",
       "      <td>40.708469</td>\n",
       "      <td>-73.988182</td>\n",
       "      <td>40.740631</td>\n",
       "      <td>N</td>\n",
       "      <td>6.742881</td>\n",
       "      <td>848.0</td>\n",
       "      <td>2.687754</td>\n",
       "      <td>1</td>\n",
       "      <td>2</td>\n",
       "      <td>48</td>\n",
       "      <td>2</td>\n",
       "      <td>6</td>\n",
       "    </tr>\n",
       "  </tbody>\n",
       "</table>\n",
       "</div>"
      ],
      "text/plain": [
       "          id  vendor_id     pickup_datetime     dropoff_datetime  \\\n",
       "0  id1080784          2 2016-02-29 16:40:21  2016-02-29 16:47:01   \n",
       "1  id0889885          1 2016-03-11 23:35:37  2016-03-11 23:53:57   \n",
       "2  id0857912          2 2016-02-21 17:59:33  2016-02-21 18:26:48   \n",
       "3  id3744273          2 2016-01-05 09:44:31  2016-01-05 10:03:32   \n",
       "4  id0232939          1 2016-02-17 06:42:23  2016-02-17 06:56:31   \n",
       "\n",
       "   passenger_count  pickup_longitude  pickup_latitude  dropoff_longitude  \\\n",
       "0                1        -73.953918        40.778873         -73.963875   \n",
       "1                2        -73.988312        40.731743         -73.994751   \n",
       "2                2        -73.997314        40.721458         -73.948029   \n",
       "3                6        -73.961670        40.759720         -73.956779   \n",
       "4                1        -74.017120        40.708469         -73.988182   \n",
       "\n",
       "   dropoff_latitude store_and_fwd_flag  trip_duration  travel_time  distance  \\\n",
       "0         40.771164                  N       5.991465        400.0  0.744551   \n",
       "1         40.694931                  N       7.003065       1100.0  2.563925   \n",
       "2         40.774918                  N       7.399398       1635.0  4.502273   \n",
       "3         40.780628                  N       7.039660       1141.0  1.466097   \n",
       "4         40.740631                  N       6.742881        848.0  2.687754   \n",
       "\n",
       "   direction  pick_month  day_of_year  day_of_week  hour  \n",
       "0          5           2           60            0    16  \n",
       "1          4           3           71            4    23  \n",
       "2          1           2           52            6    17  \n",
       "3          0           1            5            1     9  \n",
       "4          1           2           48            2     6  "
      ]
     },
     "execution_count": 40,
     "metadata": {},
     "output_type": "execute_result"
    }
   ],
   "source": [
    "df.head()"
   ]
  },
  {
   "cell_type": "markdown",
   "id": "20b17d3c",
   "metadata": {
    "papermill": {
     "duration": 0.083955,
     "end_time": "2022-02-11T20:42:09.730961",
     "exception": false,
     "start_time": "2022-02-11T20:42:09.647006",
     "status": "completed"
    },
    "tags": []
   },
   "source": [
    "**Add weekday/weekend Boolean**"
   ]
  },
  {
   "cell_type": "code",
   "execution_count": 41,
   "id": "7fad07c8",
   "metadata": {
    "execution": {
     "iopub.execute_input": "2022-02-11T20:42:09.902549Z",
     "iopub.status.busy": "2022-02-11T20:42:09.901917Z",
     "iopub.status.idle": "2022-02-11T20:42:09.927320Z",
     "shell.execute_reply": "2022-02-11T20:42:09.927870Z",
     "shell.execute_reply.started": "2022-02-11T19:47:13.207915Z"
    },
    "papermill": {
     "duration": 0.11384,
     "end_time": "2022-02-11T20:42:09.928049",
     "exception": false,
     "start_time": "2022-02-11T20:42:09.814209",
     "status": "completed"
    },
    "tags": []
   },
   "outputs": [],
   "source": [
    "df[\"weekday_weekend\"]=np.where(df['day_of_week']>4,0,1)"
   ]
  },
  {
   "cell_type": "code",
   "execution_count": 42,
   "id": "e372e3d9",
   "metadata": {
    "execution": {
     "iopub.execute_input": "2022-02-11T20:42:10.097994Z",
     "iopub.status.busy": "2022-02-11T20:42:10.097318Z",
     "iopub.status.idle": "2022-02-11T20:42:10.117905Z",
     "shell.execute_reply": "2022-02-11T20:42:10.118490Z",
     "shell.execute_reply.started": "2022-02-11T19:47:32.027493Z"
    },
    "papermill": {
     "duration": 0.107364,
     "end_time": "2022-02-11T20:42:10.118674",
     "exception": false,
     "start_time": "2022-02-11T20:42:10.011310",
     "status": "completed"
    },
    "tags": []
   },
   "outputs": [
    {
     "data": {
      "text/html": [
       "<div>\n",
       "<style scoped>\n",
       "    .dataframe tbody tr th:only-of-type {\n",
       "        vertical-align: middle;\n",
       "    }\n",
       "\n",
       "    .dataframe tbody tr th {\n",
       "        vertical-align: top;\n",
       "    }\n",
       "\n",
       "    .dataframe thead th {\n",
       "        text-align: right;\n",
       "    }\n",
       "</style>\n",
       "<table border=\"1\" class=\"dataframe\">\n",
       "  <thead>\n",
       "    <tr style=\"text-align: right;\">\n",
       "      <th></th>\n",
       "      <th>id</th>\n",
       "      <th>vendor_id</th>\n",
       "      <th>pickup_datetime</th>\n",
       "      <th>dropoff_datetime</th>\n",
       "      <th>passenger_count</th>\n",
       "      <th>pickup_longitude</th>\n",
       "      <th>pickup_latitude</th>\n",
       "      <th>dropoff_longitude</th>\n",
       "      <th>dropoff_latitude</th>\n",
       "      <th>store_and_fwd_flag</th>\n",
       "      <th>trip_duration</th>\n",
       "      <th>travel_time</th>\n",
       "      <th>distance</th>\n",
       "      <th>direction</th>\n",
       "      <th>pick_month</th>\n",
       "      <th>day_of_year</th>\n",
       "      <th>day_of_week</th>\n",
       "      <th>hour</th>\n",
       "      <th>weekday_weekend</th>\n",
       "    </tr>\n",
       "  </thead>\n",
       "  <tbody>\n",
       "    <tr>\n",
       "      <th>0</th>\n",
       "      <td>id1080784</td>\n",
       "      <td>2</td>\n",
       "      <td>2016-02-29 16:40:21</td>\n",
       "      <td>2016-02-29 16:47:01</td>\n",
       "      <td>1</td>\n",
       "      <td>-73.953918</td>\n",
       "      <td>40.778873</td>\n",
       "      <td>-73.963875</td>\n",
       "      <td>40.771164</td>\n",
       "      <td>N</td>\n",
       "      <td>5.991465</td>\n",
       "      <td>400.0</td>\n",
       "      <td>0.744551</td>\n",
       "      <td>5</td>\n",
       "      <td>2</td>\n",
       "      <td>60</td>\n",
       "      <td>0</td>\n",
       "      <td>16</td>\n",
       "      <td>1</td>\n",
       "    </tr>\n",
       "    <tr>\n",
       "      <th>1</th>\n",
       "      <td>id0889885</td>\n",
       "      <td>1</td>\n",
       "      <td>2016-03-11 23:35:37</td>\n",
       "      <td>2016-03-11 23:53:57</td>\n",
       "      <td>2</td>\n",
       "      <td>-73.988312</td>\n",
       "      <td>40.731743</td>\n",
       "      <td>-73.994751</td>\n",
       "      <td>40.694931</td>\n",
       "      <td>N</td>\n",
       "      <td>7.003065</td>\n",
       "      <td>1100.0</td>\n",
       "      <td>2.563925</td>\n",
       "      <td>4</td>\n",
       "      <td>3</td>\n",
       "      <td>71</td>\n",
       "      <td>4</td>\n",
       "      <td>23</td>\n",
       "      <td>1</td>\n",
       "    </tr>\n",
       "  </tbody>\n",
       "</table>\n",
       "</div>"
      ],
      "text/plain": [
       "          id  vendor_id     pickup_datetime     dropoff_datetime  \\\n",
       "0  id1080784          2 2016-02-29 16:40:21  2016-02-29 16:47:01   \n",
       "1  id0889885          1 2016-03-11 23:35:37  2016-03-11 23:53:57   \n",
       "\n",
       "   passenger_count  pickup_longitude  pickup_latitude  dropoff_longitude  \\\n",
       "0                1        -73.953918        40.778873         -73.963875   \n",
       "1                2        -73.988312        40.731743         -73.994751   \n",
       "\n",
       "   dropoff_latitude store_and_fwd_flag  trip_duration  travel_time  distance  \\\n",
       "0         40.771164                  N       5.991465        400.0  0.744551   \n",
       "1         40.694931                  N       7.003065       1100.0  2.563925   \n",
       "\n",
       "   direction  pick_month  day_of_year  day_of_week  hour  weekday_weekend  \n",
       "0          5           2           60            0    16                1  \n",
       "1          4           3           71            4    23                1  "
      ]
     },
     "execution_count": 42,
     "metadata": {},
     "output_type": "execute_result"
    }
   ],
   "source": [
    "df.head(2)"
   ]
  },
  {
   "cell_type": "markdown",
   "id": "096e43a4",
   "metadata": {
    "papermill": {
     "duration": 0.084479,
     "end_time": "2022-02-11T20:42:10.288406",
     "exception": false,
     "start_time": "2022-02-11T20:42:10.203927",
     "status": "completed"
    },
    "tags": []
   },
   "source": [
    "**Convert object into category**"
   ]
  },
  {
   "cell_type": "code",
   "execution_count": 43,
   "id": "c10a22b0",
   "metadata": {
    "papermill": {
     "duration": 0.088373,
     "end_time": "2022-02-11T20:53:42.727468",
     "exception": false,
     "start_time": "2022-02-11T20:53:42.639095",
     "status": "completed"
    },
    "tags": []
   },
   "outputs": [],
   "source": [
    "df['vendor_id'] = df['vendor_id'].astype('category')\n",
    "df['store_and_fwd_flag'] = df['store_and_fwd_flag'].astype('category')"
   ]
  },
  {
   "cell_type": "markdown",
   "id": "d4eb2376",
   "metadata": {},
   "source": [
    "#### Encoding"
   ]
  },
  {
   "cell_type": "code",
   "execution_count": 44,
   "id": "f4115365",
   "metadata": {},
   "outputs": [],
   "source": [
    "features = [\"vendor_id\",'store_and_fwd_flag']\n",
    "features_num=[\"passenger_count\",\"pick_month\",\"day_of_year\",\"day_of_week\",\"weekday_weekend\",\"hour\",\"distance\",\"direction\",\"trip_duration\"]\n",
    "\n",
    "df_en = pd.get_dummies(df[features])"
   ]
  },
  {
   "cell_type": "code",
   "execution_count": 45,
   "id": "f37e4ee8",
   "metadata": {},
   "outputs": [],
   "source": [
    "df_cleaned = pd.concat([df_en,df[features_num]],axis=1)"
   ]
  },
  {
   "cell_type": "code",
   "execution_count": 46,
   "id": "237c8b55",
   "metadata": {},
   "outputs": [
    {
     "data": {
      "text/html": [
       "<div>\n",
       "<style scoped>\n",
       "    .dataframe tbody tr th:only-of-type {\n",
       "        vertical-align: middle;\n",
       "    }\n",
       "\n",
       "    .dataframe tbody tr th {\n",
       "        vertical-align: top;\n",
       "    }\n",
       "\n",
       "    .dataframe thead th {\n",
       "        text-align: right;\n",
       "    }\n",
       "</style>\n",
       "<table border=\"1\" class=\"dataframe\">\n",
       "  <thead>\n",
       "    <tr style=\"text-align: right;\">\n",
       "      <th></th>\n",
       "      <th>vendor_id_1</th>\n",
       "      <th>vendor_id_2</th>\n",
       "      <th>store_and_fwd_flag_N</th>\n",
       "      <th>store_and_fwd_flag_Y</th>\n",
       "      <th>passenger_count</th>\n",
       "      <th>pick_month</th>\n",
       "      <th>day_of_year</th>\n",
       "      <th>day_of_week</th>\n",
       "      <th>weekday_weekend</th>\n",
       "      <th>hour</th>\n",
       "      <th>distance</th>\n",
       "      <th>direction</th>\n",
       "      <th>trip_duration</th>\n",
       "    </tr>\n",
       "  </thead>\n",
       "  <tbody>\n",
       "    <tr>\n",
       "      <th>0</th>\n",
       "      <td>0</td>\n",
       "      <td>1</td>\n",
       "      <td>1</td>\n",
       "      <td>0</td>\n",
       "      <td>1</td>\n",
       "      <td>2</td>\n",
       "      <td>60</td>\n",
       "      <td>0</td>\n",
       "      <td>1</td>\n",
       "      <td>16</td>\n",
       "      <td>0.744551</td>\n",
       "      <td>5</td>\n",
       "      <td>5.991465</td>\n",
       "    </tr>\n",
       "    <tr>\n",
       "      <th>1</th>\n",
       "      <td>1</td>\n",
       "      <td>0</td>\n",
       "      <td>1</td>\n",
       "      <td>0</td>\n",
       "      <td>2</td>\n",
       "      <td>3</td>\n",
       "      <td>71</td>\n",
       "      <td>4</td>\n",
       "      <td>1</td>\n",
       "      <td>23</td>\n",
       "      <td>2.563925</td>\n",
       "      <td>4</td>\n",
       "      <td>7.003065</td>\n",
       "    </tr>\n",
       "    <tr>\n",
       "      <th>2</th>\n",
       "      <td>0</td>\n",
       "      <td>1</td>\n",
       "      <td>1</td>\n",
       "      <td>0</td>\n",
       "      <td>2</td>\n",
       "      <td>2</td>\n",
       "      <td>52</td>\n",
       "      <td>6</td>\n",
       "      <td>0</td>\n",
       "      <td>17</td>\n",
       "      <td>4.502273</td>\n",
       "      <td>1</td>\n",
       "      <td>7.399398</td>\n",
       "    </tr>\n",
       "  </tbody>\n",
       "</table>\n",
       "</div>"
      ],
      "text/plain": [
       "   vendor_id_1  vendor_id_2  store_and_fwd_flag_N  store_and_fwd_flag_Y  \\\n",
       "0            0            1                     1                     0   \n",
       "1            1            0                     1                     0   \n",
       "2            0            1                     1                     0   \n",
       "\n",
       "   passenger_count  pick_month  day_of_year  day_of_week  weekday_weekend  \\\n",
       "0                1           2           60            0                1   \n",
       "1                2           3           71            4                1   \n",
       "2                2           2           52            6                0   \n",
       "\n",
       "   hour  distance  direction  trip_duration  \n",
       "0    16  0.744551          5       5.991465  \n",
       "1    23  2.563925          4       7.003065  \n",
       "2    17  4.502273          1       7.399398  "
      ]
     },
     "execution_count": 46,
     "metadata": {},
     "output_type": "execute_result"
    }
   ],
   "source": [
    "df_cleaned.head(3)"
   ]
  },
  {
   "cell_type": "code",
   "execution_count": 47,
   "id": "55aca34c",
   "metadata": {},
   "outputs": [
    {
     "name": "stdout",
     "output_type": "stream",
     "text": [
      "<class 'pandas.core.frame.DataFrame'>\n",
      "Int64Index: 727780 entries, 0 to 729321\n",
      "Data columns (total 13 columns):\n",
      " #   Column                Non-Null Count   Dtype  \n",
      "---  ------                --------------   -----  \n",
      " 0   vendor_id_1           727780 non-null  uint8  \n",
      " 1   vendor_id_2           727780 non-null  uint8  \n",
      " 2   store_and_fwd_flag_N  727780 non-null  uint8  \n",
      " 3   store_and_fwd_flag_Y  727780 non-null  uint8  \n",
      " 4   passenger_count       727780 non-null  int64  \n",
      " 5   pick_month            727780 non-null  int64  \n",
      " 6   day_of_year           727780 non-null  int64  \n",
      " 7   day_of_week           727780 non-null  int64  \n",
      " 8   weekday_weekend       727780 non-null  int32  \n",
      " 9   hour                  727780 non-null  int64  \n",
      " 10  distance              727780 non-null  float64\n",
      " 11  direction             727780 non-null  int64  \n",
      " 12  trip_duration         727780 non-null  float64\n",
      "dtypes: float64(2), int32(1), int64(6), uint8(4)\n",
      "memory usage: 55.5 MB\n"
     ]
    }
   ],
   "source": [
    "df_cleaned.info()"
   ]
  },
  {
   "cell_type": "markdown",
   "id": "889ec10d",
   "metadata": {},
   "source": [
    "**Now, Data is ready to perfom prediction**"
   ]
  },
  {
   "cell_type": "markdown",
   "id": "bb7b408f",
   "metadata": {},
   "source": [
    "#### Segregating variables: Independent and Dependent Variables"
   ]
  },
  {
   "cell_type": "code",
   "execution_count": 48,
   "id": "fca52808",
   "metadata": {},
   "outputs": [
    {
     "data": {
      "text/plain": [
       "((727780, 12), (727780,))"
      ]
     },
     "execution_count": 48,
     "metadata": {},
     "output_type": "execute_result"
    }
   ],
   "source": [
    "#seperating independent and dependent variables\n",
    "x = df_cleaned.drop(['trip_duration'], axis =1)\n",
    "y = df_cleaned['trip_duration']\n",
    "x.shape,y.shape"
   ]
  },
  {
   "cell_type": "markdown",
   "id": "85323d7c",
   "metadata": {},
   "source": [
    "#### Scaling the data (Using MinMax Scaler)"
   ]
  },
  {
   "cell_type": "code",
   "execution_count": 49,
   "id": "a2d31dc1",
   "metadata": {},
   "outputs": [],
   "source": [
    "# Importing MinMax Scaler\n",
    "from sklearn.preprocessing import MinMaxScaler\n",
    "scaler = MinMaxScaler()\n",
    "x_scaled = scaler.fit_transform(x)"
   ]
  },
  {
   "cell_type": "code",
   "execution_count": 50,
   "id": "513b235b",
   "metadata": {},
   "outputs": [],
   "source": [
    "x = pd.DataFrame(x_scaled)"
   ]
  },
  {
   "cell_type": "code",
   "execution_count": 51,
   "id": "022729ed",
   "metadata": {},
   "outputs": [
    {
     "data": {
      "text/html": [
       "<div>\n",
       "<style scoped>\n",
       "    .dataframe tbody tr th:only-of-type {\n",
       "        vertical-align: middle;\n",
       "    }\n",
       "\n",
       "    .dataframe tbody tr th {\n",
       "        vertical-align: top;\n",
       "    }\n",
       "\n",
       "    .dataframe thead th {\n",
       "        text-align: right;\n",
       "    }\n",
       "</style>\n",
       "<table border=\"1\" class=\"dataframe\">\n",
       "  <thead>\n",
       "    <tr style=\"text-align: right;\">\n",
       "      <th></th>\n",
       "      <th>0</th>\n",
       "      <th>1</th>\n",
       "      <th>2</th>\n",
       "      <th>3</th>\n",
       "      <th>4</th>\n",
       "      <th>5</th>\n",
       "      <th>6</th>\n",
       "      <th>7</th>\n",
       "      <th>8</th>\n",
       "      <th>9</th>\n",
       "      <th>10</th>\n",
       "      <th>11</th>\n",
       "    </tr>\n",
       "  </thead>\n",
       "  <tbody>\n",
       "    <tr>\n",
       "      <th>0</th>\n",
       "      <td>0.0</td>\n",
       "      <td>1.0</td>\n",
       "      <td>1.0</td>\n",
       "      <td>0.0</td>\n",
       "      <td>0.000</td>\n",
       "      <td>0.2</td>\n",
       "      <td>0.325967</td>\n",
       "      <td>0.000000</td>\n",
       "      <td>1.0</td>\n",
       "      <td>0.695652</td>\n",
       "      <td>0.012287</td>\n",
       "      <td>0.714286</td>\n",
       "    </tr>\n",
       "    <tr>\n",
       "      <th>1</th>\n",
       "      <td>1.0</td>\n",
       "      <td>0.0</td>\n",
       "      <td>1.0</td>\n",
       "      <td>0.0</td>\n",
       "      <td>0.125</td>\n",
       "      <td>0.4</td>\n",
       "      <td>0.386740</td>\n",
       "      <td>0.666667</td>\n",
       "      <td>1.0</td>\n",
       "      <td>1.000000</td>\n",
       "      <td>0.042312</td>\n",
       "      <td>0.571429</td>\n",
       "    </tr>\n",
       "    <tr>\n",
       "      <th>2</th>\n",
       "      <td>0.0</td>\n",
       "      <td>1.0</td>\n",
       "      <td>1.0</td>\n",
       "      <td>0.0</td>\n",
       "      <td>0.125</td>\n",
       "      <td>0.2</td>\n",
       "      <td>0.281768</td>\n",
       "      <td>1.000000</td>\n",
       "      <td>0.0</td>\n",
       "      <td>0.739130</td>\n",
       "      <td>0.074301</td>\n",
       "      <td>0.142857</td>\n",
       "    </tr>\n",
       "  </tbody>\n",
       "</table>\n",
       "</div>"
      ],
      "text/plain": [
       "    0    1    2    3      4    5         6         7    8         9   \\\n",
       "0  0.0  1.0  1.0  0.0  0.000  0.2  0.325967  0.000000  1.0  0.695652   \n",
       "1  1.0  0.0  1.0  0.0  0.125  0.4  0.386740  0.666667  1.0  1.000000   \n",
       "2  0.0  1.0  1.0  0.0  0.125  0.2  0.281768  1.000000  0.0  0.739130   \n",
       "\n",
       "         10        11  \n",
       "0  0.012287  0.714286  \n",
       "1  0.042312  0.571429  \n",
       "2  0.074301  0.142857  "
      ]
     },
     "execution_count": 51,
     "metadata": {},
     "output_type": "execute_result"
    }
   ],
   "source": [
    "x.head(3)"
   ]
  },
  {
   "cell_type": "code",
   "execution_count": 52,
   "id": "200843c3",
   "metadata": {},
   "outputs": [],
   "source": [
    "# Importing Train test split\n",
    "from sklearn.model_selection import train_test_split\n",
    "train_x,test_x,train_y,test_y = train_test_split(x,y, random_state = 96)"
   ]
  },
  {
   "cell_type": "markdown",
   "id": "b02b3658",
   "metadata": {},
   "source": [
    "#### 1. Build a K-Nearest neighbours model for the given dataset and find the best value of K."
   ]
  },
  {
   "cell_type": "code",
   "execution_count": 53,
   "id": "fcb249f2",
   "metadata": {},
   "outputs": [],
   "source": [
    "#importing KNN regressor and metric mse\n",
    "\n",
    "from sklearn.neighbors import KNeighborsRegressor as KNN\n",
    "from sklearn.metrics import mean_squared_error as mse"
   ]
  },
  {
   "cell_type": "code",
   "execution_count": 54,
   "id": "2b9f19be",
   "metadata": {},
   "outputs": [
    {
     "name": "stdout",
     "output_type": "stream",
     "text": [
      "Test MSE     0.36981382675225477\n"
     ]
    }
   ],
   "source": [
    "# Creating instance of KNN\n",
    "reg = KNN(n_neighbors = 3)\n",
    "\n",
    "# Fitting the model\n",
    "reg.fit(train_x, train_y)\n",
    "\n",
    "# Predicting over the Train Set and calculating MSE\n",
    "test_predict = reg.predict(test_x)\n",
    "k = mse(test_predict, test_y)\n",
    "print('Test MSE    ', k )"
   ]
  },
  {
   "cell_type": "markdown",
   "id": "d6669a2a",
   "metadata": {},
   "source": [
    "### Elbow for Classifier"
   ]
  },
  {
   "cell_type": "code",
   "execution_count": 57,
   "id": "18f70f12",
   "metadata": {},
   "outputs": [],
   "source": [
    "def Elbow(K):\n",
    "  #initiating empty list\n",
    "    test_mse = []\n",
    "  \n",
    "  #training model for evey value of K\n",
    "    for i in K:\n",
    "        #Instance of KNN\n",
    "        reg = KNN(n_neighbors = i)\n",
    "        reg.fit(train_x, train_y)\n",
    "        #Appending mse value to empty list claculated using the predictions\n",
    "        tmp = reg.predict(test_x)\n",
    "        tmp = mse(tmp,test_y)\n",
    "        test_mse.append(tmp)\n",
    "    \n",
    "    return test_mse"
   ]
  },
  {
   "cell_type": "code",
   "execution_count": 58,
   "id": "affdbc48",
   "metadata": {},
   "outputs": [],
   "source": [
    "#Defining K range\n",
    "k = range(1,40)"
   ]
  },
  {
   "cell_type": "code",
   "execution_count": 59,
   "id": "73da44cb",
   "metadata": {},
   "outputs": [],
   "source": [
    "# calling above defined function\n",
    "test = Elbow(k)"
   ]
  },
  {
   "cell_type": "code",
   "execution_count": 60,
   "id": "9cda6c47",
   "metadata": {},
   "outputs": [
    {
     "data": {
      "text/plain": [
       "Text(0.5, 1.0, 'Elbow Curve for test')"
      ]
     },
     "execution_count": 60,
     "metadata": {},
     "output_type": "execute_result"
    },
    {
     "data": {
      "image/png": "[encoded data removed]",
      "text/plain": [
       "<Figure size 432x288 with 1 Axes>"
      ]
     },
     "metadata": {},
     "output_type": "display_data"
    }
   ],
   "source": [
    " # plotting the Curves\n",
    "plt.plot(k, test)\n",
    "plt.xlabel('K Neighbors')\n",
    "plt.ylabel('Test Mean Squared Error')\n",
    "plt.title('Elbow Curve for test')"
   ]
  },
  {
   "cell_type": "markdown",
   "id": "6703121f",
   "metadata": {},
   "source": [
    "So, the lowest error occurs when **k = 5**"
   ]
  },
  {
   "cell_type": "code",
   "execution_count": 64,
   "id": "7b375a0d",
   "metadata": {},
   "outputs": [
    {
     "data": {
      "text/plain": [
       "KNeighborsRegressor()"
      ]
     },
     "execution_count": 64,
     "metadata": {},
     "output_type": "execute_result"
    }
   ],
   "source": [
    "# re-checking the error after changing n_neighbors to 5\n",
    "\n",
    "reg = KNN(n_neighbors=5)\n",
    "reg.fit(train_x, train_y)"
   ]
  },
  {
   "cell_type": "markdown",
   "id": "2f0bf479",
   "metadata": {},
   "source": [
    "**Test Score**"
   ]
  },
  {
   "cell_type": "code",
   "execution_count": 65,
   "id": "c34c51c5",
   "metadata": {},
   "outputs": [
    {
     "name": "stdout",
     "output_type": "stream",
     "text": [
      "Test MSE     0.367256441870579\n"
     ]
    }
   ],
   "source": [
    "# Predicting over the Train Set and calculating MSE\n",
    "test_predict = reg.predict(test_x)\n",
    "k = mse(test_predict, test_y)\n",
    "print('Test MSE    ', k )"
   ]
  },
  {
   "cell_type": "markdown",
   "id": "098b1bb1",
   "metadata": {},
   "source": [
    "**Train Score**"
   ]
  },
  {
   "cell_type": "code",
   "execution_count": 67,
   "id": "517de900",
   "metadata": {},
   "outputs": [
    {
     "name": "stdout",
     "output_type": "stream",
     "text": [
      "Train MSE:  0.23613625184349843\n"
     ]
    }
   ],
   "source": [
    "test_predict = reg.predict(train_x)\n",
    "\n",
    "k = mse(test_predict,train_y)\n",
    "\n",
    "print(\"Train MSE: \", k)"
   ]
  },
  {
   "cell_type": "markdown",
   "id": "5f8d25c0",
   "metadata": {},
   "source": [
    "#### 2. Build a Linear model for the given dataset with regularisation."
   ]
  },
  {
   "cell_type": "code",
   "execution_count": 68,
   "id": "0404cfac",
   "metadata": {},
   "outputs": [],
   "source": [
    "from sklearn.linear_model import LinearRegression\n",
    "\n",
    "from sklearn.linear_model import Ridge\n",
    "\n",
    "from sklearn.linear_model import Lasso\n",
    "\n",
    "from sklearn.metrics import r2_score"
   ]
  },
  {
   "cell_type": "markdown",
   "id": "b9236dae",
   "metadata": {},
   "source": [
    "#### LinearRegression Fit and finding the coefficient."
   ]
  },
  {
   "cell_type": "code",
   "execution_count": 77,
   "id": "56c82e3f",
   "metadata": {},
   "outputs": [
    {
     "name": "stdout",
     "output_type": "stream",
     "text": [
      "The coefficient for 0 is -0.002691714283804495\n",
      "The coefficient for 1 is 0.0026917142838045\n",
      "The coefficient for 2 is 0.020631767760954718\n",
      "The coefficient for 3 is -0.020631767760951998\n",
      "The coefficient for 4 is 0.053376326876899444\n",
      "The coefficient for 5 is -0.01630235922779575\n",
      "The coefficient for 6 is 0.1199023668051186\n",
      "The coefficient for 7 is 0.0950798370942207\n",
      "The coefficient for 8 is 0.1571895263496721\n",
      "The coefficient for 9 is 0.13466362619659106\n",
      "The coefficient for 10 is 12.349706442517505\n",
      "The coefficient for 11 is -0.01720369427576961\n"
     ]
    }
   ],
   "source": [
    "regression_model = LinearRegression()\n",
    "regression_model.fit(train_x, train_y)\n",
    "for idcoff, columnname in enumerate(train_x.columns):\n",
    "    print(\"The coefficient for {} is {}\".format(columnname, regression_model.coef_[idcoff]))"
   ]
  },
  {
   "cell_type": "code",
   "execution_count": 79,
   "id": "74f6f77b",
   "metadata": {},
   "outputs": [
    {
     "name": "stdout",
     "output_type": "stream",
     "text": [
      "The intercept for our model is 5.712943397923728\n"
     ]
    }
   ],
   "source": [
    "intercept = regression_model.intercept_\n",
    "print(\"The intercept for our model is {}\".format(intercept))"
   ]
  },
  {
   "cell_type": "code",
   "execution_count": 80,
   "id": "73990b38",
   "metadata": {},
   "outputs": [
    {
     "name": "stdout",
     "output_type": "stream",
     "text": [
      "0.4145053696898473\n",
      "0.4150475728804184\n"
     ]
    }
   ],
   "source": [
    "print(regression_model.score(train_x, train_y))\n",
    "print(regression_model.score(test_x, test_y))"
   ]
  },
  {
   "cell_type": "markdown",
   "id": "865a0703",
   "metadata": {},
   "source": [
    "#### Now, will apply regularization techniques and review the scores and impact of the techniques on the model."
   ]
  },
  {
   "cell_type": "code",
   "execution_count": 84,
   "id": "401f7334",
   "metadata": {},
   "outputs": [
    {
     "name": "stdout",
     "output_type": "stream",
     "text": [
      "Ridge model: [-2.69323161e-03  2.69323161e-03  2.05929316e-02 -2.05929316e-02\n",
      "  5.33846602e-02 -1.62866051e-02  1.19894073e-01  9.50779328e-02\n",
      "  1.57183842e-01  1.34651370e-01  1.23454508e+01 -1.71521156e-02]\n"
     ]
    }
   ],
   "source": [
    "# Create a Regularized RIDGE Model and coefficients.\n",
    "\n",
    "ridge = Ridge(alpha=.3)\n",
    "ridge.fit(train_x,train_y)\n",
    "print (\"Ridge model:\", (ridge.coef_))"
   ]
  },
  {
   "cell_type": "code",
   "execution_count": 85,
   "id": "b09b68a0",
   "metadata": {},
   "outputs": [
    {
     "name": "stdout",
     "output_type": "stream",
     "text": [
      "Lasso model: [-0.  0. -0.  0.  0.  0.  0. -0.  0.  0.  0.  0.]\n"
     ]
    }
   ],
   "source": [
    "# Create a Regularized LASSO Model and coefficients\n",
    "\n",
    "lasso = Lasso(alpha=0.1)\n",
    "lasso.fit(train_x,train_y)\n",
    "print (\"Lasso model:\", (lasso.coef_))"
   ]
  },
  {
   "cell_type": "code",
   "execution_count": 86,
   "id": "a560abed",
   "metadata": {},
   "outputs": [
    {
     "name": "stdout",
     "output_type": "stream",
     "text": [
      "0.4145053217867054\n",
      "0.41504731639835424\n"
     ]
    }
   ],
   "source": [
    "print(ridge.score(train_x, train_y))\n",
    "print(ridge.score(test_x, test_y))"
   ]
  },
  {
   "cell_type": "code",
   "execution_count": 89,
   "id": "f82f76cd",
   "metadata": {},
   "outputs": [
    {
     "name": "stdout",
     "output_type": "stream",
     "text": [
      "0.0\n",
      "-1.4330115694072276e-06\n"
     ]
    }
   ],
   "source": [
    "print(lasso.score(train_x, train_y))\n",
    "print(lasso.score(test_x, test_y))"
   ]
  },
  {
   "cell_type": "markdown",
   "id": "003a4a83",
   "metadata": {},
   "source": [
    "<table>\n",
    "  <tr>\n",
    "    <th>LR</th>\n",
    "    <th>RIDGE (L2)</th>\n",
    "    <th>LASSO (L1)</th>\n",
    "  </tr>\n",
    "  <tr>\n",
    "    <td>41.4%</td>\n",
    "    <td>41.4%</td>\n",
    "    <td>0.0%</td>\n",
    "  </tr>\n",
    "  <tr>\n",
    "    <td>41.5%</td>\n",
    "    <td>41.5%</td>\n",
    "    <td>0.0001%</td>\n",
    "  </tr>\n",
    "</table>"
   ]
  },
  {
   "cell_type": "markdown",
   "id": "bbf2e68b",
   "metadata": {},
   "source": [
    "#### 3. Build a Random Forest model for the given dataset"
   ]
  },
  {
   "cell_type": "code",
   "execution_count": 90,
   "id": "546b41bf",
   "metadata": {},
   "outputs": [],
   "source": [
    "# Import random Forest library\n",
    "from sklearn.ensemble import RandomForestRegressor"
   ]
  },
  {
   "cell_type": "code",
   "execution_count": 92,
   "id": "e8d86e09",
   "metadata": {},
   "outputs": [],
   "source": [
    "Regressor_rf = RandomForestRegressor(random_state=96, n_jobs=-1, max_depth=5,\n",
    "                                       n_estimators=100, oob_score=True)"
   ]
  },
  {
   "cell_type": "code",
   "execution_count": 93,
   "id": "1ba39e03",
   "metadata": {},
   "outputs": [
    {
     "data": {
      "text/plain": [
       "RandomForestRegressor(max_depth=5, n_jobs=-1, oob_score=True, random_state=96)"
      ]
     },
     "execution_count": 93,
     "metadata": {},
     "output_type": "execute_result"
    }
   ],
   "source": [
    "Regressor_rf.fit(train_x, train_y)"
   ]
  },
  {
   "cell_type": "code",
   "execution_count": 94,
   "id": "2dc27c9a",
   "metadata": {},
   "outputs": [
    {
     "data": {
      "text/plain": [
       "0.6603403262489915"
      ]
     },
     "execution_count": 94,
     "metadata": {},
     "output_type": "execute_result"
    }
   ],
   "source": [
    "# checking the oob score\n",
    "Regressor_rf.oob_score_"
   ]
  },
  {
   "cell_type": "markdown",
   "id": "e1623bce",
   "metadata": {},
   "source": [
    "Let’s do hyperparameter tuning for Random Forest using GridSearchCV and fit the data"
   ]
  },
  {
   "cell_type": "code",
   "execution_count": 95,
   "id": "32b1af16",
   "metadata": {},
   "outputs": [],
   "source": [
    "rf = RandomForestRegressor(random_state=96, n_jobs=-1)"
   ]
  },
  {
   "cell_type": "code",
   "execution_count": 96,
   "id": "d74e39ee",
   "metadata": {},
   "outputs": [],
   "source": [
    "params = {\n",
    "    'max_depth': [2,3,5,10,20],\n",
    "    'min_samples_leaf': [5,10,20,50,100,200],\n",
    "    'n_estimators': [10,25,30,50,100,200]\n",
    "}"
   ]
  },
  {
   "cell_type": "code",
   "execution_count": 101,
   "id": "d12c7389",
   "metadata": {},
   "outputs": [],
   "source": [
    "from sklearn.model_selection import RandomizedSearchCV"
   ]
  },
  {
   "cell_type": "code",
   "execution_count": 103,
   "id": "7b7df882",
   "metadata": {},
   "outputs": [],
   "source": [
    "# Instantiate the Random search model\n",
    "random_search = RandomizedSearchCV(estimator=rf,\n",
    "                           param_distributions=params,\n",
    "                           cv = 4,\n",
    "                           n_jobs=-1, verbose=1, scoring=\"accuracy\")"
   ]
  },
  {
   "cell_type": "code",
   "execution_count": 104,
   "id": "f035ba2a",
   "metadata": {},
   "outputs": [
    {
     "name": "stdout",
     "output_type": "stream",
     "text": [
      "Fitting 4 folds for each of 10 candidates, totalling 40 fits\n",
      "Wall time: 15min 57s\n"
     ]
    },
    {
     "data": {
      "text/plain": [
       "RandomizedSearchCV(cv=4,\n",
       "                   estimator=RandomForestRegressor(n_jobs=-1, random_state=96),\n",
       "                   n_jobs=-1,\n",
       "                   param_distributions={'max_depth': [2, 3, 5, 10, 20],\n",
       "                                        'min_samples_leaf': [5, 10, 20, 50, 100,\n",
       "                                                             200],\n",
       "                                        'n_estimators': [10, 25, 30, 50, 100,\n",
       "                                                         200]},\n",
       "                   scoring='accuracy', verbose=1)"
      ]
     },
     "execution_count": 104,
     "metadata": {},
     "output_type": "execute_result"
    }
   ],
   "source": [
    "%time random_search.fit(train_x, train_y)"
   ]
  },
  {
   "cell_type": "code",
   "execution_count": 105,
   "id": "f30659a2",
   "metadata": {},
   "outputs": [
    {
     "data": {
      "text/plain": [
       "nan"
      ]
     },
     "execution_count": 105,
     "metadata": {},
     "output_type": "execute_result"
    }
   ],
   "source": [
    "random_search.best_score_"
   ]
  },
  {
   "cell_type": "code",
   "execution_count": 106,
   "id": "f5f30be6",
   "metadata": {},
   "outputs": [
    {
     "data": {
      "text/plain": [
       "RandomForestRegressor(max_depth=2, min_samples_leaf=100, n_estimators=10,\n",
       "                      n_jobs=-1, random_state=96)"
      ]
     },
     "execution_count": 106,
     "metadata": {},
     "output_type": "execute_result"
    }
   ],
   "source": [
    "rf_best = random_search.best_estimator_\n",
    "rf_best"
   ]
  },
  {
   "cell_type": "markdown",
   "id": "9ccf96ed",
   "metadata": {},
   "source": [
    "From hyperparameter tuning, we can fetch the best estimator as shown. The best set of parameters identified were max_depth=2, min_samples_leaf=100,n_estimators=10"
   ]
  },
  {
   "cell_type": "code",
   "execution_count": 108,
   "id": "3eb7a603",
   "metadata": {},
   "outputs": [],
   "source": [
    "Regressor_rf = RandomForestRegressor(random_state=96, n_jobs=-1, max_depth=2,min_samples_leaf=100,n_estimators=10, oob_score=True)"
   ]
  },
  {
   "cell_type": "code",
   "execution_count": 109,
   "id": "56f4c01f",
   "metadata": {},
   "outputs": [
    {
     "data": {
      "text/plain": [
       "RandomForestRegressor(max_depth=2, min_samples_leaf=100, n_estimators=10,\n",
       "                      n_jobs=-1, oob_score=True, random_state=96)"
      ]
     },
     "execution_count": 109,
     "metadata": {},
     "output_type": "execute_result"
    }
   ],
   "source": [
    "Regressor_rf.fit(train_x, train_y)"
   ]
  },
  {
   "cell_type": "code",
   "execution_count": 110,
   "id": "6c4daf2b",
   "metadata": {},
   "outputs": [
    {
     "data": {
      "text/plain": [
       "-0.1622508551067967"
      ]
     },
     "execution_count": 110,
     "metadata": {},
     "output_type": "execute_result"
    }
   ],
   "source": [
    "# checking the oob score\n",
    "Regressor_rf.oob_score_"
   ]
  },
  {
   "cell_type": "markdown",
   "id": "b4b49868",
   "metadata": {},
   "source": [
    "#### 4. Build a Gradient Boosting model for the given dataset.\n"
   ]
  },
  {
   "cell_type": "code",
   "execution_count": 111,
   "id": "6746411c",
   "metadata": {},
   "outputs": [],
   "source": [
    "#Importing GBDT Regressor \n",
    "from sklearn.ensemble import GradientBoostingRegressor"
   ]
  },
  {
   "cell_type": "code",
   "execution_count": 113,
   "id": "60ab2bb9",
   "metadata": {},
   "outputs": [],
   "source": [
    "#creating an Gradient boosting instance\n",
    "reg_gbm = GradientBoostingRegressor(random_state=96)"
   ]
  },
  {
   "cell_type": "code",
   "execution_count": 114,
   "id": "41da40bf",
   "metadata": {},
   "outputs": [
    {
     "data": {
      "text/plain": [
       "GradientBoostingRegressor(random_state=96)"
      ]
     },
     "execution_count": 114,
     "metadata": {},
     "output_type": "execute_result"
    }
   ],
   "source": [
    "#training the model\n",
    "reg_gbm.fit(train_x,train_y)"
   ]
  },
  {
   "cell_type": "code",
   "execution_count": 115,
   "id": "3b1df700",
   "metadata": {},
   "outputs": [
    {
     "data": {
      "text/plain": [
       "0.7062782201949505"
      ]
     },
     "execution_count": 115,
     "metadata": {},
     "output_type": "execute_result"
    }
   ],
   "source": [
    "#calculating score on test data\n",
    "reg_gbm.score(test_x, test_y)"
   ]
  },
  {
   "cell_type": "markdown",
   "id": "d286e388",
   "metadata": {},
   "source": [
    "#### Model Based Hyperparameters"
   ]
  },
  {
   "cell_type": "code",
   "execution_count": 127,
   "id": "409bcabf",
   "metadata": {},
   "outputs": [],
   "source": [
    "#creating an Gradient boosting instance\n",
    "reg_gbm = GradientBoostingRegressor(random_state=96, n_estimators= 10,max_depth= 2,)"
   ]
  },
  {
   "cell_type": "code",
   "execution_count": 128,
   "id": "e8d22a54",
   "metadata": {},
   "outputs": [
    {
     "data": {
      "text/plain": [
       "GradientBoostingRegressor(max_depth=2, n_estimators=10, random_state=96)"
      ]
     },
     "execution_count": 128,
     "metadata": {},
     "output_type": "execute_result"
    }
   ],
   "source": [
    "reg_gbm.fit(train_x,train_y)"
   ]
  },
  {
   "cell_type": "code",
   "execution_count": 129,
   "id": "77e734c2",
   "metadata": {},
   "outputs": [
    {
     "data": {
      "text/plain": [
       "0.5184883984971446"
      ]
     },
     "execution_count": 129,
     "metadata": {},
     "output_type": "execute_result"
    }
   ],
   "source": [
    "#calculating score on test data\n",
    "reg_gbm.score(test_x, test_y)"
   ]
  },
  {
   "cell_type": "code",
   "execution_count": 131,
   "id": "34b21fc3",
   "metadata": {},
   "outputs": [
    {
     "name": "stdout",
     "output_type": "stream",
     "text": [
      "The mean squared error (MSE) on test set:  0.28799085872743185\n"
     ]
    }
   ],
   "source": [
    "print(\"The mean squared error (MSE) on test set: \" ,mse(test_y, reg_gbm.predict(test_x)))"
   ]
  },
  {
   "cell_type": "markdown",
   "id": "ae319abc",
   "metadata": {},
   "source": [
    "#### 5. Combine all the models above using the averaging technique to generate the final predictions."
   ]
  },
  {
   "cell_type": "markdown",
   "id": "0afceb42",
   "metadata": {},
   "source": [
    "#### Averaging"
   ]
  },
  {
   "cell_type": "code",
   "execution_count": 135,
   "id": "af9e2d5f",
   "metadata": {},
   "outputs": [
    {
     "data": {
      "text/plain": [
       "(array([6.72009952, 6.29514906, 6.75383429, 6.15543024, 6.33281834,\n",
       "        6.24558796, 6.63946957, 6.18145674, 6.09275583, 6.58783751]),\n",
       " 0.4150475728804184)"
      ]
     },
     "execution_count": 135,
     "metadata": {},
     "output_type": "execute_result"
    }
   ],
   "source": [
    "model1 = LinearRegression()\n",
    "model1.fit(train_x,train_y)\n",
    "pred1=model1.predict(test_x)\n",
    "pred1[:10], model1.score(test_x, test_y)"
   ]
  },
  {
   "cell_type": "code",
   "execution_count": 136,
   "id": "ef11bc8f",
   "metadata": {},
   "outputs": [
    {
     "data": {
      "text/plain": [
       "(array([7.04101314, 5.99333052, 6.99748092, 6.06387945, 6.21782808,\n",
       "        5.98283784, 7.19664922, 6.39494168, 6.16615957, 6.96637769]),\n",
       " 0.3859588520665135)"
      ]
     },
     "execution_count": 136,
     "metadata": {},
     "output_type": "execute_result"
    }
   ],
   "source": [
    "model2 = KNN(n_neighbors=5)\n",
    "model2.fit(train_x,train_y)\n",
    "pred2=model2.predict(test_x)\n",
    "pred2[:10], model2.score(test_x, test_y)"
   ]
  },
  {
   "cell_type": "code",
   "execution_count": 137,
   "id": "8f6a3188",
   "metadata": {},
   "outputs": [
    {
     "data": {
      "text/plain": [
       "(array([7.34376281, 6.16991172, 7.34376281, 6.16991172, 6.70983192,\n",
       "        6.16991172, 6.70983192, 5.51231161, 5.51231161, 6.70983192]),\n",
       " 0.3859588520665135)"
      ]
     },
     "execution_count": 137,
     "metadata": {},
     "output_type": "execute_result"
    }
   ],
   "source": [
    "model3 = RandomForestRegressor(random_state=96, n_jobs=-1, max_depth=2,min_samples_leaf=100,n_estimators=10, oob_score=True)\n",
    "model3.fit(train_x,train_y)\n",
    "pred3=model3.predict(test_x)\n",
    "pred3[:10], model2.score(test_x, test_y)"
   ]
  },
  {
   "cell_type": "code",
   "execution_count": 138,
   "id": "c0498195",
   "metadata": {},
   "outputs": [
    {
     "data": {
      "text/plain": [
       "(array([6.87298041, 6.37902474, 6.91564523, 6.18833045, 6.55733582,\n",
       "        6.37902474, 6.80944671, 5.80709744, 5.74794829, 6.75116928]),\n",
       " 0.5184883984971446)"
      ]
     },
     "execution_count": 138,
     "metadata": {},
     "output_type": "execute_result"
    }
   ],
   "source": [
    "model4 = GradientBoostingRegressor(random_state=96, n_estimators= 10,max_depth= 2,)\n",
    "model4.fit(train_x,train_y)\n",
    "pred4=model4.predict(test_x)\n",
    "pred4[:10], model4.score(test_x, test_y)"
   ]
  },
  {
   "cell_type": "code",
   "execution_count": 141,
   "id": "746b7e03",
   "metadata": {},
   "outputs": [],
   "source": [
    "from statistics import mean\n",
    "final_pred = np.array([])\n",
    "for i in range(0,len(test_x)):\n",
    "    final_pred = np.append(final_pred, mean([pred1[i], pred2[i], pred3[i],pred4[i]]))"
   ]
  },
  {
   "cell_type": "code",
   "execution_count": 142,
   "id": "c7ec60d0",
   "metadata": {},
   "outputs": [],
   "source": [
    "from sklearn.metrics import r2_score"
   ]
  },
  {
   "cell_type": "code",
   "execution_count": 143,
   "id": "99caa1dd",
   "metadata": {},
   "outputs": [
    {
     "data": {
      "text/plain": [
       "0.5576413582553617"
      ]
     },
     "execution_count": 143,
     "metadata": {},
     "output_type": "execute_result"
    }
   ],
   "source": [
    "r2_score(test_y, final_pred)"
   ]
  },
  {
   "cell_type": "code",
   "execution_count": 144,
   "id": "95afcf3c",
   "metadata": {},
   "outputs": [
    {
     "data": {
      "text/plain": [
       "(0.4150475728804184, 0.3859588520665135, 0.556538435733736, 0.5184883984971446)"
      ]
     },
     "execution_count": 144,
     "metadata": {},
     "output_type": "execute_result"
    }
   ],
   "source": [
    "r2_score(test_y, pred1), r2_score(test_y, pred2), r2_score(test_y, pred3),r2_score(test_y, pred4)"
   ]
  },
  {
   "cell_type": "markdown",
   "id": "97100e40",
   "metadata": {},
   "source": [
    "#### Rank Averaging"
   ]
  },
  {
   "cell_type": "code",
   "execution_count": 145,
   "id": "a7a34c2d",
   "metadata": {},
   "outputs": [
    {
     "data": {
      "text/plain": [
       "(0.4150475728804184,\n",
       " 0.3859588520665135,\n",
       " 0.5565384357337358,\n",
       " 0.5184883984971446)"
      ]
     },
     "execution_count": 145,
     "metadata": {},
     "output_type": "execute_result"
    }
   ],
   "source": [
    "m1_score= model1.score(test_x, test_y)\n",
    "m2_score= model2.score(test_x, test_y)\n",
    "m3_score= model3.score(test_x, test_y)\n",
    "m4_score= model4.score(test_x, test_y)\n",
    "m1_score, m2_score, m3_score, m4_score"
   ]
  },
  {
   "cell_type": "code",
   "execution_count": 146,
   "id": "117d1b15",
   "metadata": {},
   "outputs": [
    {
     "data": {
      "text/html": [
       "<div>\n",
       "<style scoped>\n",
       "    .dataframe tbody tr th:only-of-type {\n",
       "        vertical-align: middle;\n",
       "    }\n",
       "\n",
       "    .dataframe tbody tr th {\n",
       "        vertical-align: top;\n",
       "    }\n",
       "\n",
       "    .dataframe thead th {\n",
       "        text-align: right;\n",
       "    }\n",
       "</style>\n",
       "<table border=\"1\" class=\"dataframe\">\n",
       "  <thead>\n",
       "    <tr style=\"text-align: right;\">\n",
       "      <th></th>\n",
       "      <th>score</th>\n",
       "    </tr>\n",
       "  </thead>\n",
       "  <tbody>\n",
       "    <tr>\n",
       "      <th>1</th>\n",
       "      <td>0.415048</td>\n",
       "    </tr>\n",
       "    <tr>\n",
       "      <th>2</th>\n",
       "      <td>0.385959</td>\n",
       "    </tr>\n",
       "    <tr>\n",
       "      <th>3</th>\n",
       "      <td>0.556538</td>\n",
       "    </tr>\n",
       "    <tr>\n",
       "      <th>4</th>\n",
       "      <td>0.518488</td>\n",
       "    </tr>\n",
       "  </tbody>\n",
       "</table>\n",
       "</div>"
      ],
      "text/plain": [
       "      score\n",
       "1  0.415048\n",
       "2  0.385959\n",
       "3  0.556538\n",
       "4  0.518488"
      ]
     },
     "execution_count": 146,
     "metadata": {},
     "output_type": "execute_result"
    }
   ],
   "source": [
    "index_ = [1,2,3,4]\n",
    "valid_r2 = [m1_score,m2_score,m3_score,m4_score]\n",
    "\n",
    "rank_eval = pd.DataFrame({\n",
    "    'score':valid_r2\n",
    "}, index = index_)\n",
    "rank_eval"
   ]
  },
  {
   "cell_type": "code",
   "execution_count": 147,
   "id": "3537dfb2",
   "metadata": {},
   "outputs": [
    {
     "data": {
      "text/html": [
       "<div>\n",
       "<style scoped>\n",
       "    .dataframe tbody tr th:only-of-type {\n",
       "        vertical-align: middle;\n",
       "    }\n",
       "\n",
       "    .dataframe tbody tr th {\n",
       "        vertical-align: top;\n",
       "    }\n",
       "\n",
       "    .dataframe thead th {\n",
       "        text-align: right;\n",
       "    }\n",
       "</style>\n",
       "<table border=\"1\" class=\"dataframe\">\n",
       "  <thead>\n",
       "    <tr style=\"text-align: right;\">\n",
       "      <th></th>\n",
       "      <th>score</th>\n",
       "    </tr>\n",
       "  </thead>\n",
       "  <tbody>\n",
       "    <tr>\n",
       "      <th>2</th>\n",
       "      <td>0.385959</td>\n",
       "    </tr>\n",
       "    <tr>\n",
       "      <th>1</th>\n",
       "      <td>0.415048</td>\n",
       "    </tr>\n",
       "    <tr>\n",
       "      <th>4</th>\n",
       "      <td>0.518488</td>\n",
       "    </tr>\n",
       "    <tr>\n",
       "      <th>3</th>\n",
       "      <td>0.556538</td>\n",
       "    </tr>\n",
       "  </tbody>\n",
       "</table>\n",
       "</div>"
      ],
      "text/plain": [
       "      score\n",
       "2  0.385959\n",
       "1  0.415048\n",
       "4  0.518488\n",
       "3  0.556538"
      ]
     },
     "execution_count": 147,
     "metadata": {},
     "output_type": "execute_result"
    }
   ],
   "source": [
    "sorted_rank = rank_eval.sort_values('score')\n",
    "sorted_rank"
   ]
  },
  {
   "cell_type": "code",
   "execution_count": 149,
   "id": "bcdf790b",
   "metadata": {},
   "outputs": [
    {
     "data": {
      "text/html": [
       "<div>\n",
       "<style scoped>\n",
       "    .dataframe tbody tr th:only-of-type {\n",
       "        vertical-align: middle;\n",
       "    }\n",
       "\n",
       "    .dataframe tbody tr th {\n",
       "        vertical-align: top;\n",
       "    }\n",
       "\n",
       "    .dataframe thead th {\n",
       "        text-align: right;\n",
       "    }\n",
       "</style>\n",
       "<table border=\"1\" class=\"dataframe\">\n",
       "  <thead>\n",
       "    <tr style=\"text-align: right;\">\n",
       "      <th></th>\n",
       "      <th>score</th>\n",
       "      <th>rank</th>\n",
       "    </tr>\n",
       "  </thead>\n",
       "  <tbody>\n",
       "    <tr>\n",
       "      <th>2</th>\n",
       "      <td>0.385959</td>\n",
       "      <td>1</td>\n",
       "    </tr>\n",
       "    <tr>\n",
       "      <th>1</th>\n",
       "      <td>0.415048</td>\n",
       "      <td>2</td>\n",
       "    </tr>\n",
       "    <tr>\n",
       "      <th>4</th>\n",
       "      <td>0.518488</td>\n",
       "      <td>3</td>\n",
       "    </tr>\n",
       "    <tr>\n",
       "      <th>3</th>\n",
       "      <td>0.556538</td>\n",
       "      <td>4</td>\n",
       "    </tr>\n",
       "  </tbody>\n",
       "</table>\n",
       "</div>"
      ],
      "text/plain": [
       "      score  rank\n",
       "2  0.385959     1\n",
       "1  0.415048     2\n",
       "4  0.518488     3\n",
       "3  0.556538     4"
      ]
     },
     "execution_count": 149,
     "metadata": {},
     "output_type": "execute_result"
    }
   ],
   "source": [
    "sorted_rank['rank'] = [i for i in range(1,5)]\n",
    "sorted_rank"
   ]
  },
  {
   "cell_type": "code",
   "execution_count": 150,
   "id": "36ac3543",
   "metadata": {},
   "outputs": [
    {
     "data": {
      "text/html": [
       "<div>\n",
       "<style scoped>\n",
       "    .dataframe tbody tr th:only-of-type {\n",
       "        vertical-align: middle;\n",
       "    }\n",
       "\n",
       "    .dataframe tbody tr th {\n",
       "        vertical-align: top;\n",
       "    }\n",
       "\n",
       "    .dataframe thead th {\n",
       "        text-align: right;\n",
       "    }\n",
       "</style>\n",
       "<table border=\"1\" class=\"dataframe\">\n",
       "  <thead>\n",
       "    <tr style=\"text-align: right;\">\n",
       "      <th></th>\n",
       "      <th>score</th>\n",
       "      <th>rank</th>\n",
       "      <th>weight</th>\n",
       "    </tr>\n",
       "  </thead>\n",
       "  <tbody>\n",
       "    <tr>\n",
       "      <th>2</th>\n",
       "      <td>0.385959</td>\n",
       "      <td>1</td>\n",
       "      <td>0.1</td>\n",
       "    </tr>\n",
       "    <tr>\n",
       "      <th>1</th>\n",
       "      <td>0.415048</td>\n",
       "      <td>2</td>\n",
       "      <td>0.2</td>\n",
       "    </tr>\n",
       "    <tr>\n",
       "      <th>4</th>\n",
       "      <td>0.518488</td>\n",
       "      <td>3</td>\n",
       "      <td>0.3</td>\n",
       "    </tr>\n",
       "    <tr>\n",
       "      <th>3</th>\n",
       "      <td>0.556538</td>\n",
       "      <td>4</td>\n",
       "      <td>0.4</td>\n",
       "    </tr>\n",
       "  </tbody>\n",
       "</table>\n",
       "</div>"
      ],
      "text/plain": [
       "      score  rank  weight\n",
       "2  0.385959     1     0.1\n",
       "1  0.415048     2     0.2\n",
       "4  0.518488     3     0.3\n",
       "3  0.556538     4     0.4"
      ]
     },
     "execution_count": 150,
     "metadata": {},
     "output_type": "execute_result"
    }
   ],
   "source": [
    "sorted_rank['weight'] = sorted_rank['rank']/sorted_rank['rank'].sum()\n",
    "sorted_rank"
   ]
  },
  {
   "cell_type": "code",
   "execution_count": 151,
   "id": "2610e04c",
   "metadata": {},
   "outputs": [
    {
     "data": {
      "text/plain": [
       "array([7.04752046, 6.24003497, 7.06271364, ..., 6.2079719 , 5.76773565,\n",
       "       7.44230089])"
      ]
     },
     "execution_count": 151,
     "metadata": {},
     "output_type": "execute_result"
    }
   ],
   "source": [
    "wt_pred1 = pred1*float(sorted_rank.loc[[1],['weight']].values)\n",
    "wt_pred2 = pred2*float(sorted_rank.loc[[2],['weight']].values)\n",
    "wt_pred3 = pred3*float(sorted_rank.loc[[3],['weight']].values)\n",
    "wt_pred4 = pred4*float(sorted_rank.loc[[4],['weight']].values)\n",
    "ranked_prediction = wt_pred1 + wt_pred2 + wt_pred3 + wt_pred4\n",
    "ranked_prediction"
   ]
  },
  {
   "cell_type": "code",
   "execution_count": 152,
   "id": "c7d4a9b6",
   "metadata": {},
   "outputs": [
    {
     "data": {
      "text/plain": [
       "0.5715122185982517"
      ]
     },
     "execution_count": 152,
     "metadata": {},
     "output_type": "execute_result"
    }
   ],
   "source": [
    "r2_score(test_y, ranked_prediction)"
   ]
  },
  {
   "cell_type": "markdown",
   "id": "a697236e",
   "metadata": {},
   "source": [
    "**Conclusion:** R squared is 57.1%"
   ]
  },
  {
   "cell_type": "code",
   "execution_count": null,
   "id": "8ec87ee5",
   "metadata": {},
   "outputs": [],
   "source": []
  }
 ],
 "metadata": {
  "kernelspec": {
   "display_name": "Python 3 (ipykernel)",
   "language": "python",
   "name": "python3"
  },
  "language_info": {
   "codemirror_mode": {
    "name": "ipython",
    "version": 3
   },
   "file_extension": ".py",
   "mimetype": "text/x-python",
   "name": "python",
   "nbconvert_exporter": "python",
   "pygments_lexer": "ipython3",
   "version": "3.9.7"
  },
  "papermill": {
   "default_parameters": {},
   "duration": 1032.635577,
   "end_time": "2022-02-11T20:53:44.938656",
   "environment_variables": {},
   "exception": null,
   "input_path": "__notebook__.ipynb",
   "output_path": "__notebook__.ipynb",
   "parameters": {},
   "start_time": "2022-02-11T20:36:32.303079",
   "version": "2.3.3"
  }
 },
 "nbformat": 4,
 "nbformat_minor": 5
}
